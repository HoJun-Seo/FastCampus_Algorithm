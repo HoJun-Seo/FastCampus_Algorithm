{
 "cells": [
  {
   "cell_type": "markdown",
   "id": "76650550",
   "metadata": {},
   "source": [
    "### 동적 계획법(Dynamic Programming) 과 분할 정복(Divide and Conquer)\n",
    "- 동적 계획법(DP)\n",
    "    - 입력 크기가 작은 부분 문제들을 해결한 후, 해당 부분 문제의 해를 활용해서 보다 큰 크기의 부분 문제를 해결, 최종적으로 전체 문제를 해결하는 알고리즘\n",
    "    - 상향식 접근법으로, 가장 최하위 해답을 구한 후 이를 저장하고, 해당 결과값을 이용해서 상위 문제를 풀어가는 방식\n",
    "    - Memoization(메모이제이션) 기법을 사용함\n",
    "        - 프로그램 실행 시 이전에 계산한 값을 저장하여, 다시 계산하지 않도록 하여 전체 실행 속도를 빠르게 하는 기술\n",
    "        - 잘개 쪼개진 작은 부분 문제들을 한번씩만 풀기 위함\n",
    "    - 문제를 잘게 쪼갤 때, 부분 문제는 중복되어 재활용된다.\n",
    "        - 예시 : 피보나치 수열\n",
    "\n",
    "- 분할 정복\n",
    "    - 문제를 나눌 수 없을 때까지 나누어서 각각을 풀면서 다시 합병하여 문제의 답을 얻는 알고리즘\n",
    "    - 햐향식 접근법으로, 상위의 해답을 구하기 위해 아래로 내려가면서 하위의 해답을 구하는 방식\n",
    "        - 일반적으로 재귀 함수로 구현한다.\n",
    "    - 문제를 잘게 쪼갤 때, 부분 문제는 서로 중복되지 않는다.\n",
    "        - 예시 : 병합 정렬, 퀵 정렬 등\n",
    "    - 분할 정복에 대한 이해는 이후에 병합 정렬, 퀵 정렬에 대한 수업을 들으면서 이해해보자.\n",
    "        \n",
    "#### 공통점과 차이점\n",
    "- 공통점\n",
    "    - 문제를 잘개 쪼개서 가장 작은 단위로 분할한다.\n",
    "- 차이점\n",
    "    - 동적 계획법\n",
    "        - 부분 문제는 중복되어 상위 문제 해결 시 재활용된다.\n",
    "        - Memoization 기법을 사용한다.(부분 문제의 해답을 저장해서 재활용하는 최적화 기법으로 사용)\n",
    "    - 분할 정복\n",
    "        - 부분 문제는 서로 중복되지 않는다.\n",
    "        - Memoization 기법을 사용하지 않는다.\n",
    "        \n",
    "\n",
    "#### 동적 계획법 알고리즘 이해\n",
    "- 피보나치 수열 문제\n",
    ": 피보나치 수열 n 을 입력받아서 다음과 같이 계산한다.\n",
    "n 을 입력 받았을때 피보나치 수열로 결과값을 출력하세요\n",
    "    - Fn = 0 (n == 0)\n",
    "    - Fn = 1 (n == 1)\n",
    "    - Fn = Fn-1 + Fn-2 (n > 1)"
   ]
  },
  {
   "cell_type": "code",
   "execution_count": 4,
   "id": "cbcdba0c",
   "metadata": {},
   "outputs": [],
   "source": [
    "### Recursive Call 활용\n",
    "def fibo(num):\n",
    "    if num <= 1:\n",
    "        return num\n",
    "    return fibo(num - 1) + fibo(num - 2)"
   ]
  },
  {
   "cell_type": "code",
   "execution_count": 5,
   "id": "bdef6eac",
   "metadata": {},
   "outputs": [
    {
     "data": {
      "text/plain": [
       "3"
      ]
     },
     "execution_count": 5,
     "metadata": {},
     "output_type": "execute_result"
    }
   ],
   "source": [
    "fibo(4)"
   ]
  },
  {
   "cell_type": "code",
   "execution_count": 6,
   "id": "93debe6e",
   "metadata": {},
   "outputs": [
    {
     "data": {
      "text/plain": [
       "3"
      ]
     },
     "execution_count": 6,
     "metadata": {},
     "output_type": "execute_result"
    }
   ],
   "source": [
    "fibo(3) + fibo(2)"
   ]
  },
  {
   "cell_type": "markdown",
   "id": "f22d6251",
   "metadata": {},
   "source": [
    "#### 피보나치 수열을 일반 재귀 호출 형식으로 작성할 경우 발생하는 문제\n",
    "- fibo(4) 의 값을 구하려면 fibo(3) 과 fibo(2) 의 값이 필요하고 fibo(3) 의 값을 구하려면 fibo(2), fibo(1)의 값이 필요하며, fibo(2) 의 값을 구하려면 fibo(1), fibo(0) 의 값이 필요하다.\n",
    "- 위를 보면 알 수 있듯이 동적 계획법을 사용하지 않고 일반 재귀 호출로 문제를 해결하게 되면 fibo(2), fibo(1), fibo(0) 과 같이 중복되는 문제의 경우, 이미 앞서 답을 구했음에도 불구하고 똑같은 문제를 중복해서 다시 해결하게 된다.\n",
    "- 동적 계획법을 활용하면 Memoization 기법을 활용하기 때문에 똑같은 중복 문제를 다시 풀지 않고 전체 문제를 해결할 수 있다. "
   ]
  },
  {
   "cell_type": "code",
   "execution_count": 8,
   "id": "a2f89567",
   "metadata": {},
   "outputs": [],
   "source": [
    "### 동적 계획법(DP) 활용\n",
    "def fiboDP(num):\n",
    "    cache = [0 for index in range(num + 1)] # python List comprehension 사용\n",
    "    \n",
    "    # 작은 부분 문제에 대한 해결(n 이 0, 또는 1 일 경우)\n",
    "    cache[0] = 0\n",
    "    cache[1] = 1\n",
    "    \n",
    "    # 리스트에 이전 계산에 대한 값을 저장(Memoization)하여 중복되는 문제에 대한 되풀이 문제를 방지한다.\n",
    "    for index in range(2, num + 1):\n",
    "        cache[index] = cache[index - 1] + cache[index - 2]\n",
    "    return cache[num]"
   ]
  },
  {
   "cell_type": "code",
   "execution_count": 30,
   "id": "a05bd971",
   "metadata": {
    "scrolled": true
   },
   "outputs": [
    {
     "data": {
      "text/plain": [
       "43466557686937456435688527675040625802564660517371780402481729089536555417949051890403879840079255169295922593080322634775209689623239873322471161642996440906533187938298969649928516003704476137795166849228875"
      ]
     },
     "execution_count": 30,
     "metadata": {},
     "output_type": "execute_result"
    }
   ],
   "source": [
    "fiboDP(1000)"
   ]
  },
  {
   "cell_type": "markdown",
   "id": "1e969ac4",
   "metadata": {},
   "source": [
    "#### 동적 계획법 문제의 풀이법\n",
    "- 적용될 수 있는 점화식을 찾아내는것이 중요하다.\n",
    "- 점화식이란 이웃하는 두 개의 항 사이에 성립하는 관계를 나타낸 관계식이다.\n",
    "- 예시 : dp[n] = dp[n - 1] + dp[n - 2]"
   ]
  },
  {
   "cell_type": "code",
   "execution_count": 37,
   "id": "929d5de6",
   "metadata": {},
   "outputs": [
    {
     "name": "stdout",
     "output_type": "stream",
     "text": [
      "1000\n",
      "1115\n"
     ]
    }
   ],
   "source": [
    "# 동적 계획법 실전 예제 1\n",
    "# 동적 계획법의 경우 문제를 봤을 때 문제 풀이를 위한 점화식 패턴을 빨리 찾는 것이 중요하다.\n",
    "# 백준 - 2 * n 타일링 문제(11726, 백준 실버3)\n",
    "# 확인 결과 점화식은 피보나치 수열과 동일하다.\n",
    "\n",
    "# 1. (입력값에 따른) 비어있는 리스트 만들기\n",
    "# 2. 초기값을 설정\n",
    "# 3. 점화식을 기반으로 계산값 적용하기\n",
    "# 4. 특정 입력값에 따른 계산값을 리스트에서 추출\n",
    "\n",
    "n = int(input())\n",
    "\n",
    "dp = [0] * 1001\n",
    "\n",
    "dp[1] = 1\n",
    "dp[2] = 2\n",
    "for index in range(3, 1001):\n",
    "    dp[index] = dp[index-1] + dp[index-2]\n",
    "\n",
    "print(dp[n] % 10007)"
   ]
  }
 ],
 "metadata": {
  "kernelspec": {
   "display_name": "Python 3",
   "language": "python",
   "name": "python3"
  },
  "language_info": {
   "codemirror_mode": {
    "name": "ipython",
    "version": 3
   },
   "file_extension": ".py",
   "mimetype": "text/x-python",
   "name": "python",
   "nbconvert_exporter": "python",
   "pygments_lexer": "ipython3",
   "version": "3.8.8"
  }
 },
 "nbformat": 4,
 "nbformat_minor": 5
}
