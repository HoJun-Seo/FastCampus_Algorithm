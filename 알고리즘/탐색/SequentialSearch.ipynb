{
 "cells": [
  {
   "cell_type": "markdown",
   "id": "687d3f1a",
   "metadata": {},
   "source": [
    "### 순차 탐색(Sequential Search)\n",
    "- 순차 탐색\n",
    "    - 탐색은 여러 데이터 중에서 원하는 데이터를 찾아내는 것을 의미한다.\n",
    "    - 데이터가 담겨있는 리스트를 앞에서부터 하나씩 비교해서 원하는 데이터를 찾는 방법이다."
   ]
  },
  {
   "cell_type": "code",
   "execution_count": 3,
   "id": "67911001",
   "metadata": {},
   "outputs": [],
   "source": [
    "from random import *\n",
    "\n",
    "randomDataList = list()\n",
    "for num in range(10):\n",
    "    randomDataList.append(randint(1,100))"
   ]
  },
  {
   "cell_type": "code",
   "execution_count": 4,
   "id": "decfb4e5",
   "metadata": {},
   "outputs": [
    {
     "data": {
      "text/plain": [
       "[29, 73, 27, 43, 99, 93, 96, 72, 67, 36]"
      ]
     },
     "execution_count": 4,
     "metadata": {},
     "output_type": "execute_result"
    }
   ],
   "source": [
    "randomDataList"
   ]
  },
  {
   "cell_type": "code",
   "execution_count": 5,
   "id": "d8782900",
   "metadata": {},
   "outputs": [],
   "source": [
    "def sequential(dataList, searchData):\n",
    "    for i in range(len(dataList)):\n",
    "        if dataList[i] == searchData:\n",
    "            return i\n",
    "    return -1"
   ]
  },
  {
   "cell_type": "code",
   "execution_count": 7,
   "id": "029e3a54",
   "metadata": {},
   "outputs": [
    {
     "data": {
      "text/plain": [
       "2"
      ]
     },
     "execution_count": 7,
     "metadata": {},
     "output_type": "execute_result"
    }
   ],
   "source": [
    "sequential(randomDataList, 27)"
   ]
  },
  {
   "cell_type": "markdown",
   "id": "9c34dd4a",
   "metadata": {},
   "source": [
    "#### 알고리즘 분석\n",
    "- 최악의 경우 리스트의 길이가 n일 때 n 번 비교해야 함 : O(n)"
   ]
  }
 ],
 "metadata": {
  "kernelspec": {
   "display_name": "Python 3",
   "language": "python",
   "name": "python3"
  },
  "language_info": {
   "codemirror_mode": {
    "name": "ipython",
    "version": 3
   },
   "file_extension": ".py",
   "mimetype": "text/x-python",
   "name": "python",
   "nbconvert_exporter": "python",
   "pygments_lexer": "ipython3",
   "version": "3.8.8"
  }
 },
 "nbformat": 4,
 "nbformat_minor": 5
}
