{
 "cells": [
  {
   "cell_type": "code",
   "execution_count": 1,
   "id": "dafbc7be",
   "metadata": {},
   "outputs": [],
   "source": [
    "# 백준 1920 - 수 찾기\n",
    "N = 5\n",
    "N_list = [4,1,5,2,3]\n",
    "M = 5\n",
    "M_list = [1,3,7,9,5]"
   ]
  },
  {
   "cell_type": "code",
   "execution_count": 6,
   "id": "838eb2b5",
   "metadata": {},
   "outputs": [
    {
     "name": "stdout",
     "output_type": "stream",
     "text": [
      "1\n",
      "1\n",
      "0\n",
      "0\n",
      "1\n"
     ]
    }
   ],
   "source": [
    "N_list.sort()\n",
    "\n",
    "# 입력 받는 리스트의 인덱스를 start, end 로 지칭한다.\n",
    "# start 와 end 사이의 중간값과 value 를 비교하여 이진 탐색과 같이 부분 리스트를 만드는 방식으로 진행한다.\n",
    "# 이진 탐색의 원리에 따라 start, end 의 인덱스 값이 바뀌게 된다.\n",
    "def binarySearch(value, start, end):\n",
    "    if start > end:\n",
    "        return False\n",
    "    median = (start + end) // 2 # 중간값 적재\n",
    "    if N_list[median] > value:\n",
    "        return binarySearch(value, start, median-1)\n",
    "    elif N_list[median] < value:\n",
    "        return binarySearch(value, median + 1, end)\n",
    "    else:\n",
    "        return True\n",
    "\n",
    "for item in M_list:\n",
    "    if binarySearch(item, 0, N - 1):\n",
    "        print(1)\n",
    "    else:\n",
    "        print(0)"
   ]
  },
  {
   "cell_type": "code",
   "execution_count": null,
   "id": "778b4de0",
   "metadata": {},
   "outputs": [],
   "source": []
  }
 ],
 "metadata": {
  "kernelspec": {
   "display_name": "Python 3",
   "language": "python",
   "name": "python3"
  },
  "language_info": {
   "codemirror_mode": {
    "name": "ipython",
    "version": 3
   },
   "file_extension": ".py",
   "mimetype": "text/x-python",
   "name": "python",
   "nbconvert_exporter": "python",
   "pygments_lexer": "ipython3",
   "version": "3.8.8"
  }
 },
 "nbformat": 4,
 "nbformat_minor": 5
}
