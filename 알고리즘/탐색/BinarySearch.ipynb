{
 "cells": [
  {
   "cell_type": "markdown",
   "id": "22df901c",
   "metadata": {},
   "source": [
    "### 이진 탐색(Binary Search)\n",
    "- 탐색할 자료를 둘로 나누어 해당 데이터가 있을만한 곳을 탐색하는 방법\n",
    "\n",
    "#### 분할 정복 알고리즘과 이진 탐색\n",
    "- 분할 정복:\n",
    "    - 문제를 하나 또는 둘 이상으로 나눈다.\n",
    "    - 나눠진 문제가 충분히 적고, 해결이 가능하다면 해결하고, 그렇지 않다면 다시 나눈다.\n",
    "- 이진 탐색:\n",
    "    - 리스트를 2개의 서브 리스트로 나눈다.\n",
    "    - 검색할 숫자 > 중간값 이면, 뒷 부분의 서브 리스트에서 검색할 숫자를 찾는다.\n",
    "    - 검색할 숫자 < 중간값 이면, 앞 부분의 서브 리스트에서 검색할 숫자를 찾는다.\n",
    "    - 이진 탐색은 데이터가 정렬되어 있는 상태에서 진행한다."
   ]
  },
  {
   "cell_type": "code",
   "execution_count": 1,
   "id": "69621056",
   "metadata": {},
   "outputs": [],
   "source": [
    "def binarySearch(data, search):\n",
    "    if len(data) == 1 and seatch == data[0]: # 리스트의 길이가 1 이고, 유일하게 있는 데이터가 찾고있는 값과 일치한다면\n",
    "        return True\n",
    "    \n",
    "    if len(data) == 1 and search != data[0]:\n",
    "        return False\n",
    "    \n",
    "    if len(data) == 0: # 데이터가 존재하지 않는 경우\n",
    "        return False\n",
    "    \n",
    "    medium = len(data) // 2\n",
    "    if search == data[medium]:\n",
    "        return True\n",
    "    else:\n",
    "        if search > data[medium]:\n",
    "            return binarySearch(data[medium:], search)\n",
    "        else:\n",
    "            return binarySearch(data[:medium], search)\n",
    "        "
   ]
  },
  {
   "cell_type": "code",
   "execution_count": 2,
   "id": "beb6ed9e",
   "metadata": {},
   "outputs": [
    {
     "data": {
      "text/plain": [
       "[29, 45, 99, 33, 1, 52, 73, 40, 7, 15]"
      ]
     },
     "execution_count": 2,
     "metadata": {},
     "output_type": "execute_result"
    }
   ],
   "source": [
    "import random\n",
    "\n",
    "dataList = random.sample(range(100), 10)\n",
    "dataList"
   ]
  },
  {
   "cell_type": "code",
   "execution_count": 3,
   "id": "619d5ca1",
   "metadata": {},
   "outputs": [],
   "source": [
    "dataList.sort()"
   ]
  },
  {
   "cell_type": "code",
   "execution_count": 4,
   "id": "6567f861",
   "metadata": {},
   "outputs": [
    {
     "data": {
      "text/plain": [
       "[1, 7, 15, 29, 33, 40, 45, 52, 73, 99]"
      ]
     },
     "execution_count": 4,
     "metadata": {},
     "output_type": "execute_result"
    }
   ],
   "source": [
    "dataList"
   ]
  },
  {
   "cell_type": "code",
   "execution_count": 5,
   "id": "628de4c5",
   "metadata": {},
   "outputs": [
    {
     "data": {
      "text/plain": [
       "True"
      ]
     },
     "execution_count": 5,
     "metadata": {},
     "output_type": "execute_result"
    }
   ],
   "source": [
    "binarySearch(dataList, 7)"
   ]
  },
  {
   "cell_type": "markdown",
   "id": "adfb1762",
   "metadata": {},
   "source": [
    "#### 알고리즘 분석\n",
    "- n 개의 리스트를 매번 2로 나누어 1이 될 때까지 비교연산을 k회 진행\n",
    "- 빅오 표기법으로는 k + 1 이 결국 최종 시간 복잡도이다.(1 이 되었을 때도 비교연산을 한번 수행한다.)\n",
    "- 결국 O(log2n + 1) 이고, 2와 1, 상수는 삭제되므로 O(log n)"
   ]
  }
 ],
 "metadata": {
  "kernelspec": {
   "display_name": "Python 3",
   "language": "python",
   "name": "python3"
  },
  "language_info": {
   "codemirror_mode": {
    "name": "ipython",
    "version": 3
   },
   "file_extension": ".py",
   "mimetype": "text/x-python",
   "name": "python",
   "nbconvert_exporter": "python",
   "pygments_lexer": "ipython3",
   "version": "3.8.8"
  }
 },
 "nbformat": 4,
 "nbformat_minor": 5
}
