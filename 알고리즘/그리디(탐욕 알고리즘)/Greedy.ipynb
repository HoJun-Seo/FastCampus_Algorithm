{
 "cells": [
  {
   "cell_type": "markdown",
   "id": "ceaa4810",
   "metadata": {},
   "source": [
    "### 탐욕 알고리즘\n",
    "- 다익스트라 알고리즘과 같은 고급 그래프 탐색 알고리즘에서 그리디(탐욕) 알고리즘을 사용하고 있기 때문에 미리 익혀놓고 넘어가는 것이 좋다.\n",
    "- 최적의 해에 가까운 값을 구하기 위해 사용된다.\n",
    "- 여러 경우 중 하나를 결정해야 할 때마다, 매순간 최적이라고 생각되는 경우를 선택하는 방식으로 진행해서, 최종적인 값을 구하는 방식이다.\n",
    "- 전체에서 가능한 경우의 수를 모두 따져가며 최적의 해를 찾는것이 아니라, 각 단계를 거칠 때마다 현재 단계를 기준으로 가장 최적의 경우가 무엇인지를 판별해서 선택하는 것이다.\n",
    "- 그렇기 때문에 최적의 해에 가까운 값을 구할 수는 있지만, 그것이 반드시 최적의 해라고 말할 수는 없다.\n",
    "\n",
    "#### 탐욕 알고리즘의 한계\n",
    "- 탐욕 알고리즘은 근사치 추정에 활용된다.\n",
    "- 반드시 최적의 해를 구할 수 있는 것은 아니기 때문이다.\n",
    "- 최적의 해에 가까운 값을 구하는 방법 중의 하나이다.\n"
   ]
  },
  {
   "cell_type": "code",
   "execution_count": 6,
   "id": "d03fed9d",
   "metadata": {},
   "outputs": [],
   "source": [
    "# 탐욕 알고리즘의 예시 문제 - 1 (동전 문제)\n",
    "# 지불해야 하는 값이 4720원 일 때 1원, 50원, 100원, 500원 동전으로 최소 갯수만큼 지불하시오\n",
    "#   - 가장 큰 동전부터 최대한 지불해야 하는 값을 채우는 방식으로 구현이 가능하다.\n",
    "#   - 탐욕 알고리즘으로 매순간 최적이라고 생각되는 경우를 선택하면 된다.\n",
    "\n",
    "coin_list = [500, 100, 50, 1]\n",
    "\n",
    "def min_coin_count(value, coin_list):\n",
    "    total_coin_count = 0\n",
    "    details = list()\n",
    "    coin_list.sort(reverse=True)\n",
    "    for coin in coin_list:\n",
    "        coin_num = value // coin\n",
    "        total_coin_count += coin_num\n",
    "        value -= coin_num * coin\n",
    "        details.append([coin, coin_num])\n",
    "    \n",
    "    return total_coin_count, details"
   ]
  },
  {
   "cell_type": "code",
   "execution_count": 7,
   "id": "ff836f8e",
   "metadata": {},
   "outputs": [
    {
     "data": {
      "text/plain": [
       "(31, [[500, 9], [100, 2], [50, 0], [1, 20]])"
      ]
     },
     "execution_count": 7,
     "metadata": {},
     "output_type": "execute_result"
    }
   ],
   "source": [
    "min_coin_count(4720, coin_list)"
   ]
  },
  {
   "cell_type": "code",
   "execution_count": 9,
   "id": "2ab4eed6",
   "metadata": {},
   "outputs": [
    {
     "data": {
      "text/plain": [
       "[(10, 10), (15, 12), (20, 10), (25, 8), (30, 5)]"
      ]
     },
     "execution_count": 9,
     "metadata": {},
     "output_type": "execute_result"
    }
   ],
   "source": [
    "# 탐욕 알고리즘의 예시 문제 - 2 (부분 배낭 문제)\n",
    "# - 무게 제한이 k 인 배남에 최대 가치를 가지도록 물건을 넣는 문제\n",
    "#    - 각 물건은 무게(w) 와 가치(v) 로 표현될 수 있음\n",
    "#    - 물건은 쪼갤수 있으므로 물건의 일부분이 배낭에 넣어질 수 있음, 그래서 Fractional Knapsack Problem 으로 부름\n",
    "#    - Fractional Knapsack Problem 의 반대로 물건을 쪼개서 넣을 수 없는 배낭 문제도 존재한다.(0/1 Knapsack Problem 으로 부름)\n",
    "\n",
    "# 각 단계별로 가장 적은 무게로 가장 높은 가치를 뽑아 낼 수 있는 경우를 판단해야 한다.\n",
    "\n",
    "data_list = [(10,10), (15,12), (20,10), (25,8), (30,5)]\n",
    "\n",
    "data_list = sorted(data_list, key = lambda x: x[1] / x[0], reverse=True) # 무게 단위 별로 가치가 가장 높은 것부터 리스트의 맨 앞에 오도록 한다.\n",
    "data_list"
   ]
  },
  {
   "cell_type": "code",
   "execution_count": 12,
   "id": "737905bc",
   "metadata": {},
   "outputs": [],
   "source": [
    "# 물건의 전체적인 조합을 고려하지 않고, 현재 판별중인 물건을 기준으로 전체를 다 넣을지,\n",
    "# 그렇지 않으면 물건을 쪼개서 넣을지에 대한 최적의 선택을 결정한다\n",
    "\n",
    "def get_max_value(data_list, capacity):\n",
    "    data_list = sorted(data_list, key=lambda x : x[1] / x[0], reverse=True)\n",
    "    total_value = 0\n",
    "    details = list()\n",
    "    \n",
    "    for data in data_list:\n",
    "        if capacity - data[0] >= 0: # 배낭의 최대 용량이 무게 단위 별 최대 가치를 가지고 있는 물건의 무게 보다 크다면\n",
    "            capacity -= data[0] # 물건을 쪼개지 않고 통째로 배낭에 넣는다.\n",
    "            total_value += data[1]\n",
    "            details.append([data[0], data[1], 1]) # 가장 마지막에 있는 숫자 1은 물건을 쪼개지 않고 전체를 모두 넣었다는 뜻\n",
    "        else: # 물건을 쪼개야 하는 경우\n",
    "            fraction = capacity / data[0] # 현재 배낭 용량 / 무게 - 물건을 얼마나(물건에서 몇 퍼센트를 쪼갤지) 쪼개서 넣어야 할지를 계산한다.\n",
    "             # capacity -= data[0] * fraction - 남아있는 용량은 어차피 0 이 될 것이기 때문에 제외\n",
    "            total_value += data[1] * fraction # 쪼개지는 용량 * 물건의 가치(쪼개서 넣어지는 가치 만큼만 추가)\n",
    "            details.append([data[0], data[1], fraction])\n",
    "            break # 뒤에 물건이 더 있다고 해도 더 이상은 배낭에 물건이 들어갈 용량이 없기 때문에 break 수행\n",
    "    return total_value, details\n",
    "            "
   ]
  },
  {
   "cell_type": "code",
   "execution_count": 13,
   "id": "d8184a3d",
   "metadata": {},
   "outputs": [
    {
     "data": {
      "text/plain": [
       "(24.5, [[10, 10, 1], [15, 12, 1], [20, 10, 0.25]])"
      ]
     },
     "execution_count": 13,
     "metadata": {},
     "output_type": "execute_result"
    }
   ],
   "source": [
    "get_max_value(data_list, 30) # 세번째 물건이 쪼개져서 들어감"
   ]
  },
  {
   "cell_type": "markdown",
   "id": "bc7d02d2",
   "metadata": {},
   "source": [
    "### 실전 코딩 테스트 풀이"
   ]
  },
  {
   "cell_type": "code",
   "execution_count": 14,
   "id": "ab15f55c",
   "metadata": {},
   "outputs": [],
   "source": [
    "# 백준 11399 번 문제 - ATM\n",
    "# https://www.acmicpc.net/problem/11399\n",
    "N = 5\n",
    "N_list = [3,1,4,3,2]\n",
    "minimum = 0"
   ]
  },
  {
   "cell_type": "code",
   "execution_count": 15,
   "id": "e1552833",
   "metadata": {},
   "outputs": [],
   "source": [
    "N_list.sort()"
   ]
  },
  {
   "cell_type": "code",
   "execution_count": 16,
   "id": "1cb6aa32",
   "metadata": {},
   "outputs": [
    {
     "name": "stdout",
     "output_type": "stream",
     "text": [
      "32\n"
     ]
    }
   ],
   "source": [
    "for index in range(N):\n",
    "    for index2 in range(index + 1):\n",
    "        minimum += N_list[index2]\n",
    "print(minimum)"
   ]
  },
  {
   "cell_type": "code",
   "execution_count": null,
   "id": "7e8c6326",
   "metadata": {},
   "outputs": [],
   "source": []
  }
 ],
 "metadata": {
  "kernelspec": {
   "display_name": "Python 3",
   "language": "python",
   "name": "python3"
  },
  "language_info": {
   "codemirror_mode": {
    "name": "ipython",
    "version": 3
   },
   "file_extension": ".py",
   "mimetype": "text/x-python",
   "name": "python",
   "nbconvert_exporter": "python",
   "pygments_lexer": "ipython3",
   "version": "3.8.8"
  }
 },
 "nbformat": 4,
 "nbformat_minor": 5
}
