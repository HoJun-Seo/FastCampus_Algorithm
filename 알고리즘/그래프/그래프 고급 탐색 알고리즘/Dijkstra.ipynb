{
 "cells": [
  {
   "cell_type": "markdown",
   "id": "0b929935",
   "metadata": {},
   "source": [
    "### 최단 경로 알고리즘\n",
    "- 최단 경로 문제란? : 두 노드를 잇는 가장 짧은 경로를 찾는 문제\n",
    "- 가중치 그래프(Weighted Graph) 에서 간선(Edge) 의 가중치 합이 최소가 되도록 하는 경로를 찾는 것이 목적이다.\n",
    "\n",
    "* 최단 경로 문제 종류\n",
    "- 단일 출발 및 단일 도착 최단 경로 문제 (single-source and single-destination shortest path problem)\n",
    "    - 그래프 내의 특정 노드 u 에서 출발, 또다른 특정 노드 v 에 도착하는 가장 짧은 경로를 찾는 문제\n",
    "- 단일 출발 최단 경로 문제(single-source shortest path problem)\n",
    "    - 그래프 내의 특정 노드 u 와 그래프 내 다른 모든 노드 각각의 가장 짧은 경로를 찾는 문제\n",
    "    - 예를 들어 A,B,C,D 라는 노드를 가진 그래프에서 특정 노드를 A 라고 한다면, A외 모든 노드인 B,C,D 각 노드와 A 간에 각각 가장 짧은 경로를 찾는 문제를 의미한다.(A -> B, A -> C, A -> D)\n",
    "- 전체 쌍(all-pair) 최단 경로 : 그래프 내의 모든 노드 쌍(u,v) 에 대한 최단 경로를 찾는 문제\n",
    "\n",
    "#### 최단 경로 알고리즘 - 다익스트라 알고리즘\n",
    "- 다익스트라 알고리즘은 위의 최단 경로 문제 종류 중, 2번에 해당한다.(단일 출발 최단 경로 문제)\n",
    "- 하나의 정점에서 다른 모든 정점간의 각각 가장 짧은 거리를 구하는 문제\n",
    "\n",
    "#### 다익스트라 알고리즘 로직\n",
    "- 첫 정점을 기준으로 연결되어 있는 정점들을 추가해 가며, 최단 거리를 갱신하는 기법\n",
    "- 다익스트라 알고리즘은 너비우선탐색(BFS) 와 유사하다.\n",
    "    - 첫 정점부터 각 노드간의 거리를 저장하는 배열을 만든 후, 첫 정점의 인접노드 간의 거리부터 먼저 계산하면서, 첫 정점부터 해당 노드간의 가장 짧은 거리를 해당 배열에 업데이트\n",
    "    - 다익스트라 알고리즘의 다양한 변형 로직이 있지만, 가장 개선된 우선순위 큐를 사용하는 방식에 집중하자.\n",
    "    \n",
    "#### 우선순위 큐를 활용한 다익스트라 알고리즘\n",
    "- 우선순위 큐는 최소 힙 방식을 활용해서, 현재 가장 짧은 거리를 가진 노드 정보를 먼저 꺼내게된다.\n",
    "    1. 첫 정점을 기준으로 배열을 선언하여 첫 정점에서 각 정점 까지의 거리를 저장한다.\n",
    "    - 초기에는 첫 정점의 거리는 0(자기 자신이기 때문), 나머지는 무한대로 저장한다.(inf 라고 표현함 - 아직 각 노드로 가는 거리를 모르기 때문)\n",
    "    - 우선순위 큐에 첫 정점 (거리 0) 만 먼저 넣는다.\n",
    "    2. 우선순위 큐에서 노드를 꺼낸다.\n",
    "    - 처음에는 첫 정점만 저장되어 있으므로 첫 정점이 꺼내진다.\n",
    "    - 첫 정점에 인접한 노드들 각각에 대해, 첫 정점에서 각 노드로 가는 거리와 현재 배열에 저장되어 있는 첫 정점에서 각 정점 까지의 거리를 비교한다.\n",
    "    - 배열에 저장되어 있는 거리보다, 첫 정점에서 해당 노드로 가는 거리가 더 짧을 경우, 배열에 해당 노드의 거리를 업데이트 한다.\n",
    "    - 배열에 해당 노드의 거리가 업데이트 된 경우, 우선순위 큐에 넣는다.\n",
    "        - 결과적으로 너비 우선탐색 방식과 유사하게, 첫 정점에 인접한 노드들을 순차적으로 방문하게 된다.\n",
    "        - 만약 배열에 기록된 현재까지 발견된 가장 짧은 거리보다 더 긴 거리(루트) 를 가진 거리(노드) 의 경우에는 해당 노드와 인접한 노드간의 거리 계산을 하지 않는다.\n",
    "    3. 2번의 과정을 우선순위 큐에 꺼낼 노드가 없을 때 까지 반복한다."
   ]
  },
  {
   "cell_type": "code",
   "execution_count": 2,
   "id": "7375e01e",
   "metadata": {},
   "outputs": [
    {
     "name": "stdout",
     "output_type": "stream",
     "text": [
      "[[1, 'C'], [5, 'B'], [2, 'A'], [7, 'D']]\n",
      "[1, 'C']\n",
      "[2, 'A']\n",
      "[5, 'B']\n",
      "[7, 'D']\n"
     ]
    }
   ],
   "source": [
    "# 다익스트라 알고리즘 구현\n",
    "# heapq 라이브러리 활용을 통해 우선순위 큐 사용하기\n",
    "import heapq\n",
    "\n",
    "queue =[]\n",
    "\n",
    "heapq.heappush(queue, [2,'A'])\n",
    "heapq.heappush(queue, [5,'B'])\n",
    "heapq.heappush(queue, [1,'C'])\n",
    "heapq.heappush(queue, [7,'D'])\n",
    "print(queue)\n",
    "for index in range(len(queue)):\n",
    "    print(heapq.heappop(queue))"
   ]
  },
  {
   "cell_type": "code",
   "execution_count": 3,
   "id": "95cd1d73",
   "metadata": {},
   "outputs": [],
   "source": [
    "mygraph = {\n",
    "    'A':{'B':8, 'C':1, 'D':2},\n",
    "    'B':{},\n",
    "    'C':{'B':5, 'D':2},\n",
    "    'D':{'E':3, 'F':5},\n",
    "    'E':{'F':1},\n",
    "    'F':{'A':5}\n",
    "}"
   ]
  },
  {
   "cell_type": "code",
   "execution_count": 4,
   "id": "39166645",
   "metadata": {},
   "outputs": [],
   "source": [
    "import heapq\n",
    "\n",
    "def dijkstra(graph, start):\n",
    "    \n",
    "    distances = {node: float('inf') for node in graph}\n",
    "    distances[start] = 0\n",
    "    \n",
    "    queue = []\n",
    "    \n",
    "    heapq.heappush(queue,[distances[start], start])\n",
    "    \n",
    "    while queue:\n",
    "        current_distance, current_node = heapq.heappop(queue)\n",
    "        \n",
    "        if distances[current_node] < current_distance:\n",
    "            continue\n",
    "        \n",
    "        for adjacent, weight in graph[current_node].items():\n",
    "            distance = current_distance + weight\n",
    "            \n",
    "            if distance < distances[adjacent]:\n",
    "                distances[adjacent] = distance\n",
    "                heapq.heappush(queue, [distance, adjacent])\n",
    "    return distances"
   ]
  },
  {
   "cell_type": "code",
   "execution_count": 5,
   "id": "70afbdb1",
   "metadata": {},
   "outputs": [
    {
     "data": {
      "text/plain": [
       "{'A': 0, 'B': 6, 'C': 1, 'D': 2, 'E': 5, 'F': 6}"
      ]
     },
     "execution_count": 5,
     "metadata": {},
     "output_type": "execute_result"
    }
   ],
   "source": [
    "dijkstra(mygraph, 'A')"
   ]
  },
  {
   "cell_type": "markdown",
   "id": "a2da5fd0",
   "metadata": {},
   "source": [
    "#### 다익스트라 알고리즘 시간 복잡도\n",
    "- 다익스트라 알고리즘은 크게 다음 두 가지 과정을 거친다.\n",
    "    - 과정1 : 각 노드마다 인접한 간선들을 모두 검사하는 과정\n",
    "    - 과정2 : 우선순위 큐에 노드/거리 정보를 넣고 삭제(pop) 하는 과정\n",
    "- 각 과정별 시간복잡도\n",
    "- 과정1 : 각 노드는 최대 한번 씩 방문하므로(첫 노드와 해당 노드간의 갈수 있는 루트가 있는 경우만 해당), 그래프의 모든 간선은 최대 한번 씩 검사한다.\n",
    "    - 즉, 각 노드마다 인접한 간선들을 모두 검사하는 과정은 O(E) 시간이 걸린다. E 는 간선(edge) 의 약자이다.\n",
    "- 과정2 : 우선순위 큐에 가장 많은 노드, 거리 정보가 들어가는 경우, 우선순위 큐에 노드/거리 정보를 넣고, 삭제하는 과정이 최악의 시간이 걸린다.\n",
    "    - 우선순위 큐에 가장 많은 노드, 거리 정보가 들어가는 시나리오는 그래프의 모든 간선이 검사될 때마다, 배열의 최단 거리가 갱신되고, 우선순위 큐에 노드/거리가 추가되는 것이다.\n",
    "    - 이 때 추가는 각 간선마다 최대 한번 일어날 수 있으므로, 최대 O(E) 의 시간이 걸리고, O(E) 개의 노드/거리 정보에 대해 우선순위 큐를 유지하는 작업은 O(logE) 가 걸린다.\n",
    "    \n",
    "        - 따라서 해당 과정의 시간 복잡도는 O(ElogE)\n",
    "        \n",
    "#### 총 시간 복잡도\n",
    "- 과정1 + 과정2 = O(E) + O(ElogE) = O(E + ElogE) = O(ElogE)\n",
    "* 참고 : 힙의 시간 복잡도\n",
    "- depth(트리의 높이) 를 h 라고 표기한다면, n 개의 노드를 가지는 heap 에 데이터 삽입 또는 삭제시, 최악의 경우 root 노드에서 leaf 노드 까지 비교해야 하므로 h = log2n 에 가까우므로, 시간복잡도는 O(logn)"
   ]
  },
  {
   "cell_type": "code",
   "execution_count": null,
   "id": "594c5068",
   "metadata": {},
   "outputs": [],
   "source": []
  }
 ],
 "metadata": {
  "kernelspec": {
   "display_name": "Python 3",
   "language": "python",
   "name": "python3"
  },
  "language_info": {
   "codemirror_mode": {
    "name": "ipython",
    "version": 3
   },
   "file_extension": ".py",
   "mimetype": "text/x-python",
   "name": "python",
   "nbconvert_exporter": "python",
   "pygments_lexer": "ipython3",
   "version": "3.8.8"
  }
 },
 "nbformat": 4,
 "nbformat_minor": 5
}
