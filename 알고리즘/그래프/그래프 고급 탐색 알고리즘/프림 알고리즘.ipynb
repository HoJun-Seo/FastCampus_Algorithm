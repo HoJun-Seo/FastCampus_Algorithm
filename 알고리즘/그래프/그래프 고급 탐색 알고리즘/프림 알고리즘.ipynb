{
 "cells": [
  {
   "cell_type": "markdown",
   "id": "eca6d91a",
   "metadata": {},
   "source": [
    "### 프림 알고리즘(Prim's Algorithm)\n",
    "- 대표적인 최소 신장 트리 알고리즘(크루스칼 알고리즘 보다 다소 복잡하다.)\n",
    "- 프림 알고리즘\n",
    "    - 시작 정점을 선택한 후, 정점에 인접한 간선 중 최소 간선으로 연결된 정점을 선택하고, 해당 정점에서 다시 최소 간선으로 연결된 정점을 선택하는 방식으로 최소 신장 트리를 확장해가는 방식이다.\n",
    "\n",
    "* 크루스칼 알고리즘과 프림 알고리즘의 비교\n",
    "- 둘 다 탐욕 알고리즘을 기초로 하고 있다.(당장 눈 앞의 최소 비용을 선택해서, 결과적으로 최적의 솔루션을 찾음)\n",
    "- 크루스칼 알고리즘은 가장 가중치가 작은 간선부터 선택하면서 MST 를 구한다.\n",
    "- 프림 알고리즘은 특정 정점에서 시작하여, 해당 정점에 연결된 가장 가중치가 작은 간선을 선택한다. 간선으로 연결된 정점들에 연결된 간선 중에서 가장 가중치가 작은 간선을 택하는 방식으로 MST 를 구한다.\n",
    "(가중치 별로 간선 정보를 정렬한 다음, 가장 작은 가중치를 가진 간선부터 선택하는 크루스칼 과는 다르게(그래프 상의 노드의 위치와는 관계없이 간선의 가중치를 기준으로 트리를 만든다.), 특정 노드를 선택해서, 해당 노드에 연결되어 있는 간선들 중, 가장 가중치가 작은 간선을 선택하는 방식이다.)\n",
    "- 크루스칼의 경우 곳곳에서 선택되어 흩어져 있는 간선들이 마지막엔 하나의 트리로 통합되면서 MST 를 만든다면, 프림의 경우 특정 노드 부터 시작하여 가중치가 작은 간선들을 골라가며 뻗어나가는 방식으로 MST 를 만든다는 차이점이 있다. "
   ]
  },
  {
   "cell_type": "code",
   "execution_count": 4,
   "id": "5b40d268",
   "metadata": {},
   "outputs": [
    {
     "name": "stdout",
     "output_type": "stream",
     "text": [
      "[2, 'A']\n",
      "[3, 'C']\n",
      "[5, 'B']\n"
     ]
    }
   ],
   "source": [
    "# 프림 알고리즘 코드 작성\n",
    "# heapq 라이브러리 활용을 통해 우선순위 큐를 사용한다.\n",
    "import heapq\n",
    "\n",
    "graph_data = [[2,'A'],[5,'B'],[3,'C']]\n",
    "\n",
    "heapq.heapify(graph_data) # graph_data 자체가 힙 구조로 변환된다.\n",
    "    \n",
    "for index in range(len(graph_data)):\n",
    "    print(heapq.heappop(graph_data))"
   ]
  },
  {
   "cell_type": "code",
   "execution_count": 5,
   "id": "c20b780b",
   "metadata": {},
   "outputs": [
    {
     "name": "stdout",
     "output_type": "stream",
     "text": [
      "[]\n"
     ]
    }
   ],
   "source": [
    "# 참고 : Collections 라이브러리의 defaultdict 함수 활용하기\n",
    "# defaultdict 함수를 사용해서, key 에 대한 value 를 지정하지 않았을 시, 빈 리스트로 초기화한다.\n",
    "from collections import defaultdict\n",
    "\n",
    "list_dict = defaultdict(list)\n",
    "print(list_dict['key1'])"
   ]
  },
  {
   "cell_type": "markdown",
   "id": "8bd5a3d6",
   "metadata": {},
   "source": [
    "#### 프림 알고리즘 로직\n",
    "0. 모든 간선 정보를 저장(adjacent_edges)\n",
    "1. 임의의 정점을 선택, '연결된 노드 집합(connected_nodes)' 에 삽입\n",
    "2. 선택된 정점에 연결된 간선들을 간선 리스트(candidate_edge_list) 에 삽입\n",
    "3. 간선 리스트(candidate_edge_list) 에서 최소 가중치를 가지는 간선부터 추출한다.\n",
    "    - 해당 간선에 연결된 인접 정점이 '연결된 노드 집합' 에 이미 들어 있다면 스킵한다.(cycle 발생을 막기 위함)\n",
    "    - 해당 간선에 연결된 인접 정점이 '연결된 노드 집합' 에 들어 있지 않으면 해당 간선을 선택하고, 해당 간선 정보를 '최소 신장 트리(mst)' 에 삽입한다.\n",
    "        - 해당 간선에 연결된 인접 정점의 간선들 중 '연결된 노드 집합(connected_nodes)' 에 없는 노드와 연결된 간선들만 간선 리스트(candidate_edge_list) 에 삽입\n",
    "        - 연결된 노드 집합(connected_nodes) 에 있는 노드와 연결된 간선들을 간선 리스트에 삽입해도, 해당 간선들은 스킵될 것이기 때문이다.\n",
    "        - 어차피 스킵될 간선을 간선 리스트(candidate_edge_list) 에 넣지 않음으로 해서, 간선 리스트 에서 최소 가중치를 가지는 간선부터 추출하기 위한 자료구조 유지를 위한 effort 를 줄일 수 있음(예시 : 최소 힙 구조 사용)\n",
    "4. 선택된 간선은 간선 리스트에서 제거\n",
    "5. 간선 리스트에 더 이상의 간선이 없을 때까지 3 ~ 4 번을 반복"
   ]
  },
  {
   "cell_type": "code",
   "execution_count": 25,
   "id": "8e3bce98",
   "metadata": {},
   "outputs": [],
   "source": [
    "myedges = [\n",
    "    (7, 'A', 'B'), (5, 'A', 'D'),\n",
    "    (8, 'B', 'C'), (9, 'B', 'D'), (7, 'B', 'E'),\n",
    "    (5, 'C', 'E'),\n",
    "    (7, 'D', 'E'), (6, 'D', 'F'),\n",
    "    (8, 'E', 'F'), (9, 'E', 'G'),\n",
    "    (11, 'F', 'G')\n",
    "]   "
   ]
  },
  {
   "cell_type": "code",
   "execution_count": 26,
   "id": "d5a95f9c",
   "metadata": {},
   "outputs": [],
   "source": [
    "from collections import defaultdict\n",
    "from heapq import *\n",
    "\n",
    "def prim(start_node, edges):\n",
    "    mst = list()\n",
    "    adjacent_edges = defaultdict(list)\n",
    "    for weight, n1, n2 in edges:\n",
    "        adjacent_edges[n1].append((weight, n1, n2))\n",
    "        adjacent_edges[n2].append((weight, n2, n1))\n",
    "        \n",
    "    connected_nodes = set(start_node)\n",
    "    candidate_edge_list = adjacent_edges[start_node]\n",
    "    heapify(candidate_edge_list)\n",
    "    \n",
    "    while candidate_edge_list:\n",
    "        weight, n1, n2 = heappop(candidate_edge_list)\n",
    "        if n2 not in connected_nodes:\n",
    "            connected_nodes.add(n2)\n",
    "            mst.append((weight, n1, n2))\n",
    "            \n",
    "            for edge in adjacent_edges[n2]:\n",
    "                if edge[2] not in connected_nodes:\n",
    "                    heappush(candidate_edge_list, edge)\n",
    "    \n",
    "    return mst"
   ]
  },
  {
   "cell_type": "code",
   "execution_count": 27,
   "id": "d3cee127",
   "metadata": {},
   "outputs": [
    {
     "data": {
      "text/plain": [
       "[(5, 'A', 'D'),\n",
       " (6, 'D', 'F'),\n",
       " (7, 'A', 'B'),\n",
       " (7, 'B', 'E'),\n",
       " (5, 'E', 'C'),\n",
       " (9, 'E', 'G')]"
      ]
     },
     "execution_count": 27,
     "metadata": {},
     "output_type": "execute_result"
    }
   ],
   "source": [
    "prim('A', myedges)"
   ]
  },
  {
   "cell_type": "code",
   "execution_count": null,
   "id": "65650634",
   "metadata": {},
   "outputs": [],
   "source": []
  }
 ],
 "metadata": {
  "kernelspec": {
   "display_name": "Python 3",
   "language": "python",
   "name": "python3"
  },
  "language_info": {
   "codemirror_mode": {
    "name": "ipython",
    "version": 3
   },
   "file_extension": ".py",
   "mimetype": "text/x-python",
   "name": "python",
   "nbconvert_exporter": "python",
   "pygments_lexer": "ipython3",
   "version": "3.8.8"
  }
 },
 "nbformat": 4,
 "nbformat_minor": 5
}
