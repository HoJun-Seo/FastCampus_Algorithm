{
 "cells": [
  {
   "cell_type": "markdown",
   "id": "7b7b1c83",
   "metadata": {},
   "source": [
    "### 너비 우선 탐색(Breadth-First Search)\n",
    "##### BFS 와 DFS 란?\n",
    "- 대표적인 그래프의 노드 탐색 알고리즘\n",
    "    - 너비 우선 탐색(Breadth-First Search) : 정점들과 같은 레벨에 있는 노드들(형제 노드들) 을 먼저 탐색하는 방식\n",
    "    - 깊이 우선 탐색(Depth First Search) : 정점의 자식들을 먼저 탐색하는 방식\n",
    "    - 둘 다 트리와 같은 그래프 구조(사이클이 없는 그래프)에서 데이터를 탐색하는 방식이다.\n",
    "    \n",
    "- BFS, DFS 방식 이해를 위한 예제\n",
    "    - BFS 방식 : A - B - C - D - G - H - I - E - F - J\n",
    "        - 한 단계씩 내려가면서 해당 노드와 같은 레벨에 있는 노드들(형제 노드들)을 먼저 순회함\n",
    "    - DFS 방식 : A - B - D - E - F - C - G - H - I - J\n",
    "        - 한 노드의 자식을 타고 끝까지 순회한 후, 다시 돌아와서 다른 형제들의 자식을 타고 내려가며 순회함\n",
    "\n",
    "##### 파이썬으로 그래프를 표현하는 방법(BFS 의 경우)\n",
    "- 파이썬에서 제공하는 딕셔너리와 리스트 자료 구조를 활용해서 그래프를 표현할 수 있다.\n",
    "- 자바의 경우 해시맵, 리스트 구조에 해당한다.\n",
    "    - 각 노드들을 딕셔너리의 키(key)로 만든다.\n",
    "    - 키가 있으면 그에 해당하는 값(value)도 있어야 한다.\n",
    "    - 각 키에 해당하는 노드와 간선으로 연결된 인점 정점 들을 값으로 넣어준다.\n",
    "    - 인접 정점이 2개 이상일 경우도 값으로 넣어야 하기에 값의 자료형으로 리스트를 활용한다.\n",
    "    - 인정 정점으로는 부모 노드 또한 포함된다."
   ]
  },
  {
   "cell_type": "code",
   "execution_count": 3,
   "id": "372d177f",
   "metadata": {},
   "outputs": [],
   "source": [
    "graph = dict()\n",
    "\n",
    "graph['A'] = ['B', 'C']\n",
    "graph['B'] = ['A', 'D']\n",
    "graph['C'] = ['A', 'G', 'H', 'I']\n",
    "graph['D'] = ['B', 'E', 'F']\n",
    "graph['E'] = ['D']\n",
    "graph['F'] = ['D']\n",
    "graph['G'] = ['C']\n",
    "graph['H'] = ['C']\n",
    "graph['I'] = ['C', 'J']\n",
    "graph['J'] = ['I']"
   ]
  },
  {
   "cell_type": "code",
   "execution_count": 4,
   "id": "23e7f9c5",
   "metadata": {},
   "outputs": [
    {
     "data": {
      "text/plain": [
       "{'A': ['B', 'C'],\n",
       " 'B': ['A', 'D'],\n",
       " 'C': ['A', 'G', 'H', 'I'],\n",
       " 'D': ['B', 'E', 'F'],\n",
       " 'E': ['D'],\n",
       " 'F': ['D'],\n",
       " 'G': ['C'],\n",
       " 'H': ['C'],\n",
       " 'I': ['C', 'J'],\n",
       " 'J': ['I']}"
      ]
     },
     "execution_count": 4,
     "metadata": {},
     "output_type": "execute_result"
    }
   ],
   "source": [
    "graph"
   ]
  },
  {
   "cell_type": "markdown",
   "id": "6de24936",
   "metadata": {},
   "source": [
    "#### BFS 알고리즘을 구현해보자.\n",
    "- 자료구조 큐를 활용한다.\n",
    "    - needVisit 큐(방문이 필요한 노드에 대한 정보를 가진 큐)\n",
    "    - visited 큐(방문한 노드를 순서대로 적재한 큐 - 탐색이 끝나면 특정 노드를 어떤 순서에 방문했는지 알 수 있다.)\n",
    "- 처음일 경우 needVisit 큐에 루트 노드(키 값)에 대한 정보를 적재한다.(여기서는 A)\n",
    "- needVisit 큐에 들어가 있는 데이터 중에서 가장 앞에 있는 정보(head)를 꺼낸다.(A 를 꺼냄)\n",
    "- needVisit 큐에서 꺼낸 노드가 visited 큐 에 있는지를 검사한다.\n",
    "- visited 큐에 없는 경우 해당 노드를 visited 큐에 적재한다.(있는 경우 그냥 턴을 넘겨버린다.)\n",
    "- 해당 노드가 visited 큐에 적재되고 나면 해당 노드에 간선으로 연결되어 있는 리스트에 적재되어 있는 인접 정점들을 왼쪽부터 순서대로 needVisit 큐에 적재한다.\n",
    "- 위와 같은 순서로 프로세스가 진행되고 나면 한턴 이 끝났다고 판단한다.\n",
    "- 그 이후로는 위와 같은 과정을 반복한다."
   ]
  },
  {
   "cell_type": "code",
   "execution_count": 5,
   "id": "d6b6d953",
   "metadata": {},
   "outputs": [],
   "source": [
    "# BFS 알고리즘 구현\n",
    "def bfs(graph, start_node):\n",
    "    visited = list()\n",
    "    needVisit = list()\n",
    "    \n",
    "    needVisit.append(start_node)\n",
    "    \n",
    "    # needVisit 큐가 비어있다면 모든 노드를 다 순회했다는 뜻이다.\n",
    "    while needVisit:\n",
    "        node = needVisit.pop(0)\n",
    "        if node not in visited:\n",
    "            visited.append(node)\n",
    "            needVisit.extend(graph[node])\n",
    "    \n",
    "    return visited"
   ]
  },
  {
   "cell_type": "code",
   "execution_count": 6,
   "id": "fc057af8",
   "metadata": {},
   "outputs": [
    {
     "data": {
      "text/plain": [
       "['A', 'B', 'C', 'D', 'G', 'H', 'I', 'E', 'F', 'J']"
      ]
     },
     "execution_count": 6,
     "metadata": {},
     "output_type": "execute_result"
    }
   ],
   "source": [
    "bfs(graph, 'A')"
   ]
  },
  {
   "cell_type": "markdown",
   "id": "1e01db3d",
   "metadata": {},
   "source": [
    "#### BFS 의 시간 복잡도\n",
    "- 일반적인 BFS 시간 복잡도\n",
    "    - 노드 수 : V\n",
    "    - 간선 수 : E\n",
    "        - 위 코드에서 while needVisit 은 V + E 번 만큼 수행한다.\n",
    "    - 시간 복잡도 : O(V + E)"
   ]
  },
  {
   "cell_type": "code",
   "execution_count": null,
   "id": "d03a0594",
   "metadata": {},
   "outputs": [],
   "source": []
  }
 ],
 "metadata": {
  "kernelspec": {
   "display_name": "Python 3",
   "language": "python",
   "name": "python3"
  },
  "language_info": {
   "codemirror_mode": {
    "name": "ipython",
    "version": 3
   },
   "file_extension": ".py",
   "mimetype": "text/x-python",
   "name": "python",
   "nbconvert_exporter": "python",
   "pygments_lexer": "ipython3",
   "version": "3.8.8"
  }
 },
 "nbformat": 4,
 "nbformat_minor": 5
}
