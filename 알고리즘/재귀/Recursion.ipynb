{
 "cells": [
  {
   "cell_type": "markdown",
   "id": "8476a401",
   "metadata": {},
   "source": [
    "### 재귀 용법(Recursive Call, 재귀 호출)\n",
    "- 고급 정렬 알고리즘에서 재귀 용법을 사용하므로, 고급 정렬 알고리즘을 익히기 전에 재귀 용법을 먼저 학습한다.\n",
    "- 함수 안에서 동일한 함수를 호출하는 형태\n",
    "- 재귀 용법은 다른 알고리즘 과는 달리 코드를 작성하는 일정한 패턴이 있다.\n",
    "- 재귀 함수는 내부적으로 스택처럼 관리된다.\n",
    "#### 예제 팩토리얼을 구하는 알고리즘을 Recursive Call 을 활용하여 작성해보자.\n",
    "- 팩토리얼의 경우 결과값을 구하기 위한 일정한 규칙이 있다.\n",
    "- n! = n * (n - 1)!\n",
    "- 메소드로 만들 경우 메소드(n) 은 n > 1 이면 return n * 메소드(n - 1), n = 1 이면 return n\n",
    "\n",
    "#### 코드로 작성해보자.\n",
    "```python\n",
    "def factorial(num):\n",
    "    if num > 1:\n",
    "        return num * factorial(num - 1)\n",
    "    else:\n",
    "        return num\n",
    "```"
   ]
  },
  {
   "cell_type": "code",
   "execution_count": 1,
   "id": "d0955b5b",
   "metadata": {},
   "outputs": [
    {
     "name": "stdout",
     "output_type": "stream",
     "text": [
      "0\n",
      "1\n",
      "2\n",
      "6\n",
      "24\n",
      "120\n",
      "720\n",
      "5040\n",
      "40320\n",
      "362880\n"
     ]
    }
   ],
   "source": [
    "def factorial(num):\n",
    "    if num > 1:\n",
    "        return num * factorial(num - 1)\n",
    "    else:\n",
    "        return num\n",
    "\n",
    "for num in range(10):\n",
    "    print(factorial(num))"
   ]
  },
  {
   "cell_type": "markdown",
   "id": "e5e4fd21",
   "metadata": {},
   "source": [
    "#### 재귀 호출의 시간 복잡도와 공간 복잡도\n",
    "- factorial(n) 은 n - 1 번의 factorial() 함수를 호출해서 곱셉을 한다.\n",
    "    - 일종의 n - 1 번 반복문을 호출한 것과 동일하다.\n",
    "    - factorial() 함수를 호출할 때마다 지역변수 n 이 생성된다.\n",
    "- 시간 복잡도/공간 복잡도는 O(n - 1) 이므로, 결국 둘 다 O(n) 이다.\n",
    "\n",
    "#### 재귀 호출의 일반적인 형태(패턴)\n",
    "- 일반적인 형태 1\n",
    "```python\n",
    "def function(입력):\n",
    "    if 입력 > 일정값: # 입력이 일정 값 이상이면\n",
    "        return function(입력 - 1) # 입력 보다 작은 값\n",
    "    else:\n",
    "        return 일정값 # 재귀호출 종료\n",
    "```\n",
    "\n",
    "- 일반적인 형태 2\n",
    "```python\n",
    "def function(입력):\n",
    "    if 입력 <= 일정값: # 입력이 일정 값보다 작으면\n",
    "        return 결과값 # 재귀 호출 종료\n",
    "    function(입력보다 작은 값)\n",
    "    return 결과값\n",
    "```"
   ]
  },
  {
   "cell_type": "code",
   "execution_count": 3,
   "id": "4f7cd3d8",
   "metadata": {},
   "outputs": [
    {
     "name": "stdout",
     "output_type": "stream",
     "text": [
      "3628800\n"
     ]
    }
   ],
   "source": [
    "# 몇 가지 프로그래밍 예제를 풀어보자.\n",
    "# 일반적인 반복문\n",
    "# 1 부터 시작하여 입력 받은 숫자까지 곱한다.(일종의 팩토리얼)\n",
    "def multiple(num):\n",
    "    return_value = 1\n",
    "    for index in range(1, num+1):\n",
    "        return_value = return_value * index\n",
    "    return return_value\n",
    "\n",
    "print(multiple(10))"
   ]
  },
  {
   "cell_type": "code",
   "execution_count": 4,
   "id": "ca9708a1",
   "metadata": {},
   "outputs": [
    {
     "name": "stdout",
     "output_type": "stream",
     "text": [
      "3628800\n"
     ]
    }
   ],
   "source": [
    "# 재귀 용법을 사용하는 경우\n",
    "def multiple(num):\n",
    "    if num <= 1:\n",
    "        return num\n",
    "    else:\n",
    "        return num * multiple(num - 1)\n",
    "\n",
    "print(multiple(10))"
   ]
  },
  {
   "cell_type": "code",
   "execution_count": 9,
   "id": "00af1cd1",
   "metadata": {},
   "outputs": [
    {
     "name": "stdout",
     "output_type": "stream",
     "text": [
      "[28, 14, 87, 81, 79, 29, 61, 27, 77, 18]\n",
      "501\n"
     ]
    }
   ],
   "source": [
    "# 리스트의 값 전체를 더하는 경우#\n",
    "\n",
    "import random\n",
    "\n",
    "data = random.sample(range(100), 10)\n",
    "\n",
    "def sum_list(data):\n",
    "    if len(data) == 1:\n",
    "        return data[0]\n",
    "    else:\n",
    "        return data[0] + sum_list(data[1:]) # 리스트에서 1번 인덱스부터 마지막 리스트 까지를 넘겨준다.\n",
    "        # 매 반복마다 data[0] 은 이전 호출때 리스트의 1번 인덱스와 같다.\n",
    "print(data)\n",
    "print(sum_list(data))"
   ]
  },
  {
   "cell_type": "code",
   "execution_count": 25,
   "id": "75de2f3b",
   "metadata": {},
   "outputs": [
    {
     "name": "stdout",
     "output_type": "stream",
     "text": [
      "False\n",
      "True\n"
     ]
    }
   ],
   "source": [
    "# 회문(Palindrome) 의 경우\n",
    "# 회문은 순서를 거꾸로 읽어도 제대로 읽은것과 같은 단어와 문장을 의미한다.\n",
    "# 회문을 판별할 수 있는 함수를 리스트 슬라이싱을 활용해서 만들어보자.\n",
    "# 문자열을 입력받고 회문이면 true, 아니면 false 를 리턴하는 함수를 만들어보자.\n",
    "\n",
    "# 내가 직접 작성한 코드\n",
    "def reverse(string):\n",
    "    if len(string) == 1:\n",
    "        return string[0]\n",
    "    else:\n",
    "        return string[len(string)-1] + reverse(string[0:len(string)-1])\n",
    "        \n",
    "\n",
    "def palindrom(string1, string2):\n",
    "    if string1 == string2:\n",
    "        return True\n",
    "    else:\n",
    "        return False\n",
    "    \n",
    "string1 = \"motor\"\n",
    "print(palindrom(string1, reverse(string1)))\n",
    "\n",
    "string1 = \"level\"\n",
    "print(palindrom(string1, reverse(string1)))"
   ]
  },
  {
   "cell_type": "code",
   "execution_count": 23,
   "id": "7adc984c",
   "metadata": {},
   "outputs": [],
   "source": [
    "# 강사님이 작성하신 코드\n",
    "def palindrome(string):\n",
    "    if len(string) <= 1:\n",
    "        return True\n",
    "    \n",
    "    if string[0] == string[-1]: # 문자열의 가장 앞 글자와 마지막 글자가 똑같은지 판별\n",
    "        return palindrome(string[1:-1]) # 그 사이에 있는 문자열 자르기\n",
    "    else:\n",
    "        return False"
   ]
  },
  {
   "cell_type": "code",
   "execution_count": 24,
   "id": "3669312d",
   "metadata": {},
   "outputs": [
    {
     "name": "stdout",
     "output_type": "stream",
     "text": [
      "True\n",
      "False\n"
     ]
    }
   ],
   "source": [
    "print(palindrome(\"level\"))\n",
    "print(palindrome(\"motor\"))"
   ]
  },
  {
   "cell_type": "code",
   "execution_count": 35,
   "id": "c4a96be4",
   "metadata": {},
   "outputs": [],
   "source": [
    "# 좀 더 난이도 있는 문제를 풀어보자.\n",
    "# 정수 n 에 대해서 n 이 홀수이면 3 * n + 1 을 하고, \n",
    "# n 이 짝수이면 n 을 2 로 나눈다.\n",
    "# 이를 계속 진행하여 n 이 결국 1 이 될 때까지 2와 3의 과정을 반복한다.\n",
    "def func(n):\n",
    "    print(n)\n",
    "    if n == 1:\n",
    "        return n\n",
    "    elif n % 2 == 1:\n",
    "        return func(3 * n + 1)\n",
    "    elif n % 2 == 0:\n",
    "        return func(n // 2)"
   ]
  },
  {
   "cell_type": "code",
   "execution_count": 36,
   "id": "09c3ca20",
   "metadata": {},
   "outputs": [
    {
     "name": "stdout",
     "output_type": "stream",
     "text": [
      "3\n",
      "10\n",
      "5\n",
      "16\n",
      "8\n",
      "4\n",
      "2\n",
      "1\n"
     ]
    },
    {
     "data": {
      "text/plain": [
       "1"
      ]
     },
     "execution_count": 36,
     "metadata": {},
     "output_type": "execute_result"
    }
   ],
   "source": [
    "func(3)"
   ]
  },
  {
   "cell_type": "code",
   "execution_count": 37,
   "id": "3afcbc75",
   "metadata": {},
   "outputs": [],
   "source": [
    "# 정수 4을 1,2,3 의 조합으로 나타내는 방법은 다음과 같이 총 7가지가 있다.\n",
    "# 1 + 1 + 1 + 1\n",
    "# 1 + 1 + 2\n",
    "# 1 + 2 + 1\n",
    "# 2 + 1 + 1\n",
    "# 2 + 2\n",
    "# 1 + 3\n",
    "# 3 + 1\n",
    "# 정수 n 이 입력으로 주어졌을 때, n 을 1,2,3 의 합으로 나타낼 수 있는 방법의 수를 구하시오\n",
    "# 힌트 : 이 문제의 경우 f(n) = f(n - 1) + f(n - 2) + f(n - 3) 과 동일하다는 패턴이 있다.\n",
    "def func(data):\n",
    "    if data == 1:\n",
    "        return 1\n",
    "    elif data == 2:\n",
    "        return 2\n",
    "    elif data == 3:\n",
    "        return 4\n",
    "    \n",
    "    # 3 이후로는 패턴을 이용해 계산해야 한다.\n",
    "    return func(data-1) + func(data-2) + func(data-3)"
   ]
  },
  {
   "cell_type": "code",
   "execution_count": 38,
   "id": "07bfdd5b",
   "metadata": {},
   "outputs": [
    {
     "data": {
      "text/plain": [
       "13"
      ]
     },
     "execution_count": 38,
     "metadata": {},
     "output_type": "execute_result"
    }
   ],
   "source": [
    "func(5)"
   ]
  },
  {
   "cell_type": "code",
   "execution_count": 40,
   "id": "a82395f8",
   "metadata": {},
   "outputs": [
    {
     "data": {
      "text/plain": [
       "7"
      ]
     },
     "execution_count": 40,
     "metadata": {},
     "output_type": "execute_result"
    }
   ],
   "source": [
    "func(4)"
   ]
  },
  {
   "cell_type": "code",
   "execution_count": null,
   "id": "b65050a7",
   "metadata": {},
   "outputs": [],
   "source": []
  }
 ],
 "metadata": {
  "kernelspec": {
   "display_name": "Python 3",
   "language": "python",
   "name": "python3"
  },
  "language_info": {
   "codemirror_mode": {
    "name": "ipython",
    "version": 3
   },
   "file_extension": ".py",
   "mimetype": "text/x-python",
   "name": "python",
   "nbconvert_exporter": "python",
   "pygments_lexer": "ipython3",
   "version": "3.8.8"
  }
 },
 "nbformat": 4,
 "nbformat_minor": 5
}
