{
 "cells": [
  {
   "cell_type": "markdown",
   "id": "c75dec1c",
   "metadata": {},
   "source": [
    "### 삽입 정렬(Insertion Sort)\n",
    "- 삽입 정렬은 두번째 인덱스부터 시작하여 마지막 인덱스 까지 로직을 수행한다.\n",
    "- 해당 인덱스(Key 값) 앞에 있는 데이터부터 key 값과 비교를 시작한다.\n",
    "- 만약 key 값 보다 key 값의 앞에 있는 데이터가 더 클 경우 두 요소의 위치를 바꿔주고, 이를 key 값이 앞에 있는 값 보다 더 클 때까지 반복한다.\n",
    "- 만약 key 값이 배열에서 가장 작은 값일 경우, 더 작은 값이 앞에 나타나지 않고 계속 위치를 변경해주게 되어 해당 인덱스는 배열에서 가장 앞에 위치하게 된다.\n",
    "- 만약 중간에 key 값 보다 작은 값이 나타날 경우 더 이상 위치를 바꿔주지 않고 해당 회차의 반복문을 종료해준다.\n",
    "\n",
    "### 배열 길이 별 데이터 비교 최대 횟수 및, 전체 반복 최대 횟수\n",
    "- 배열의 길이가 2일 경우 : 데이터 비교 횟수 1, 전체 반복 횟수 1\n",
    "- 배열의 길이가 3일 경우 : 데이터 비교 횟수 2, 전체 반복 횟수 2\n",
    "- 배열의 길이가 4일 경우 : 데이터 비교 횟수 3, 전체 반복 횟수 3\n",
    "\n",
    "#### 코드로 구현해보자.\n",
    "```python\n",
    "for index in range(Length - 1):\n",
    "    # index + 1 위치 부터 시작하여 배열의 두번째 인덱스 위치까지 데이터를 비교한다.\n",
    "    # range 의 두번째 파라미터를 0 으로 해두면, 0번째 인덱스 까지 보는것이 아니라 1번째 인덱스 까지 보게 된다.\n",
    "    # index 변수는 0 부터 시작하기 때문에 두번째 인덱스 위치부터 비교를 시작하려면 + 1 을 해줘야 한다.\n",
    "    for index2 in range(index + 1, 0,  -1):\n",
    "        if data[index2] < data[index2 - 1]:\n",
    "            swap(data[index2], data[index2 - 1])\n",
    "        else:\n",
    "            break\n",
    "```"
   ]
  },
  {
   "cell_type": "code",
   "execution_count": 3,
   "id": "14199339",
   "metadata": {},
   "outputs": [],
   "source": [
    "def insertionSort(data):\n",
    "    for index in range(len(data) - 1):\n",
    "        for index2 in range(index + 1, 0,  -1):\n",
    "            if data[index2] < data[index2 - 1]:\n",
    "                data[index2], data[index2-1] = data[index2-1], data[index2]\n",
    "            else:\n",
    "                break\n",
    "    return data"
   ]
  },
  {
   "cell_type": "code",
   "execution_count": 5,
   "id": "9041103e",
   "metadata": {},
   "outputs": [
    {
     "name": "stdout",
     "output_type": "stream",
     "text": [
      "[0, 1, 4, 5, 6, 7, 11, 13, 14, 15, 16, 18, 19, 21, 23, 25, 29, 30, 31, 33, 34, 35, 37, 39, 40, 42, 44, 49, 52, 55, 59, 60, 61, 63, 64, 66, 69, 70, 73, 74, 75, 76, 77, 79, 80, 84, 90, 91, 93, 95]\n"
     ]
    }
   ],
   "source": [
    "import random\n",
    "\n",
    "dataList = random.sample(range(100), 50)\n",
    "print(insertionSort(dataList))"
   ]
  },
  {
   "cell_type": "markdown",
   "id": "44dd1371",
   "metadata": {},
   "source": [
    "### 알고리즘 분석\n",
    "- 2중첩 반복문으로 알고리즘을 수행하기 때문에 O(n^2) 이다.\n",
    "    - 최악의 경우 n * (n - 1) / 2\n",
    "- 완전 정렬이 되어 있는 상태라면 최선의 경우이므로 O(n) 이다."
   ]
  }
 ],
 "metadata": {
  "kernelspec": {
   "display_name": "Python 3",
   "language": "python",
   "name": "python3"
  },
  "language_info": {
   "codemirror_mode": {
    "name": "ipython",
    "version": 3
   },
   "file_extension": ".py",
   "mimetype": "text/x-python",
   "name": "python",
   "nbconvert_exporter": "python",
   "pygments_lexer": "ipython3",
   "version": "3.8.8"
  }
 },
 "nbformat": 4,
 "nbformat_minor": 5
}
