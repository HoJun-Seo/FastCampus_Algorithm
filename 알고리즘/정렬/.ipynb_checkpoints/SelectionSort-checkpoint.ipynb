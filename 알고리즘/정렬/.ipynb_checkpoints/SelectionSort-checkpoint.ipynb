{
 "cells": [
  {
   "cell_type": "markdown",
   "id": "465ca560",
   "metadata": {},
   "source": [
    "### 선택 정렬(Selection Sort)\n",
    "- 선택 정렬(Selection Sort) : 다음과 같은 순서를 반복하며 정렬하는 알고리즘 이다.\n",
    "    1. 주어진 데이터 중, 최소값을 찾음(배열 전체를 둘러보며 최소값을 찾는다.)\n",
    "        - 매 반복마다 최소값을 찾을 때 마다 배열 끝까지 찾아가며 데이터를 비교해봐야 한다.\n",
    "    2. 해당 최소값을 데이터 맨 앞에 위치한 값과 교체한다.\n",
    "    3. 맨 앞의 위치(최소값) 을 뺀 나머지 데이터를 동일한 방법으로 반복한다.\n",
    "    \n",
    "```python\n",
    "for stand in range(len(data) - 1):\n",
    "    lowest = stand\n",
    "    for index in range(stand + 1, len(data)):\n",
    "        if data[lowest] > data[index]:\n",
    "            lowest = index\n",
    "    swap(lowest, stand)\n",
    "```"
   ]
  },
  {
   "cell_type": "code",
   "execution_count": 3,
   "id": "01f6905a",
   "metadata": {},
   "outputs": [],
   "source": [
    "def selectionSort(data):\n",
    "    for stand in range(len(data) - 1):\n",
    "        lowest = stand\n",
    "        for index in range(stand + 1, len(data)):\n",
    "            if data[lowest] > data[index]:\n",
    "                lowest = index\n",
    "        data[lowest], data[stand] = data[stand], data[lowest]\n",
    "    return data"
   ]
  },
  {
   "cell_type": "code",
   "execution_count": 4,
   "id": "3c2be958",
   "metadata": {},
   "outputs": [
    {
     "name": "stdout",
     "output_type": "stream",
     "text": [
      "[0, 1, 4, 5, 6, 8, 9, 11, 12, 15, 19, 21, 24, 25, 26, 27, 31, 33, 38, 39, 40, 43, 44, 47, 50, 51, 55, 58, 61, 62, 64, 66, 68, 71, 72, 74, 75, 76, 78, 79, 81, 82, 87, 88, 90, 93, 94, 95, 96, 99]\n"
     ]
    }
   ],
   "source": [
    "import random\n",
    "\n",
    "data = random.sample(range(100), 50)\n",
    "print(selectionSort(data))"
   ]
  },
  {
   "cell_type": "markdown",
   "id": "a379ab24",
   "metadata": {},
   "source": [
    "### 알고리즘 분석\n",
    "- 버블정렬, 삽입정렬과 마찬가지로 2중첩 반복문을 활용하기 때문에 시간복잡도는 O(n^2) 이다.\n",
    "    - 실제로 상세하게 계산하면 n * (n - 1) / 2"
   ]
  }
 ],
 "metadata": {
  "kernelspec": {
   "display_name": "Python 3",
   "language": "python",
   "name": "python3"
  },
  "language_info": {
   "codemirror_mode": {
    "name": "ipython",
    "version": 3
   },
   "file_extension": ".py",
   "mimetype": "text/x-python",
   "name": "python",
   "nbconvert_exporter": "python",
   "pygments_lexer": "ipython3",
   "version": "3.8.8"
  }
 },
 "nbformat": 4,
 "nbformat_minor": 5
}
