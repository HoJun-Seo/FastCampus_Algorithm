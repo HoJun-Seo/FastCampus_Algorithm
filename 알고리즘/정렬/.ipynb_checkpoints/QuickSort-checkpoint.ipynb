{
 "cells": [
  {
   "cell_type": "markdown",
   "id": "e90d41f0",
   "metadata": {},
   "source": [
    "### 퀵 정렬(Quick Sort)\n",
    "- 정렬 알고리즘의 꽃 이라고 할 수 있다.\n",
    "- 기준점(pivot) 을 정해서, 기준점 보다 작은 데이터는 왼쪽 (left), 큰 데이터는 오른쪽(right) 으로 모으는 함수를 작성한다.\n",
    "- 각 왼쪽, 오른쪽은 재귀용법을 사용해서 다시 동일 함수를 호출하여 위 작업을 반복한다.\n",
    "- 함수는 왼쪽 + 기준점 + 오른쪽 으로 리턴한다.\n",
    "- 기준점을 고를 땐 해당 리스트의 맨 앞에 있는 데이터로 결정한다\n",
    "- 왼쪽, 오른쪽으로 갈라진 이후, 각 리스트 길이가 1 이하라면 해당 리스트를 그대로 리턴해준다.\n",
    "- 그렇지 않으면 기준점을 결정하고 해당 기준점 보다 작은지 큰지를 판별한 다음, 작다면 왼쪽 재귀 호출, 크다면 오른쪽 재귀 호출을 수행한다.\n",
    "- 각 재귀 호출을 수행하면서 정렬이 완료되면 자바의 경우 addAll() 과 같은 메소드를 통해 리스트 끼리 병합해준다."
   ]
  },
  {
   "cell_type": "code",
   "execution_count": 1,
   "id": "ff98948f",
   "metadata": {},
   "outputs": [],
   "source": [
    "# 코드 실습\n",
    "def qsort(data):\n",
    "    if len(data) <= 1:\n",
    "        return data\n",
    "    \n",
    "    left, right = list(), list()\n",
    "    pivot = data[0]\n",
    "    \n",
    "    for index in range(1, len(data)):\n",
    "        if pivot > data[index]:\n",
    "            left.append(data[index])\n",
    "        else:\n",
    "            right.append(data[index])\n",
    "            \n",
    "    return qsort(left) + [pivot] + qsort(right)"
   ]
  },
  {
   "cell_type": "code",
   "execution_count": 2,
   "id": "407de5c2",
   "metadata": {},
   "outputs": [
    {
     "data": {
      "text/plain": [
       "[0, 11, 14, 17, 25, 29, 33, 34, 55, 81]"
      ]
     },
     "execution_count": 2,
     "metadata": {},
     "output_type": "execute_result"
    }
   ],
   "source": [
    "import random\n",
    "\n",
    "data_list = random.sample(range(100), 10)\n",
    "\n",
    "qsort(data_list)"
   ]
  },
  {
   "cell_type": "code",
   "execution_count": 6,
   "id": "35ba76e0",
   "metadata": {},
   "outputs": [],
   "source": [
    "# 파이썬 list comprehension 을 이용해 더 간략하게 작성해보기\n",
    "def qsort(data):\n",
    "    if len(data) <= 1:\n",
    "        return data\n",
    "    pivot = data[0]\n",
    "    \n",
    "    left,right = list(), list()\n",
    "    \n",
    "    left = [item for item in data[1:] if pivot > item]\n",
    "    right = [item for item in data[1:] if pivot <= item]\n",
    "    \n",
    "    return qsort(left) + [pivot] + qsort(right)"
   ]
  },
  {
   "cell_type": "code",
   "execution_count": 7,
   "id": "43a57604",
   "metadata": {},
   "outputs": [
    {
     "data": {
      "text/plain": [
       "[4, 13, 21, 33, 56, 61, 75, 79, 85, 88]"
      ]
     },
     "execution_count": 7,
     "metadata": {},
     "output_type": "execute_result"
    }
   ],
   "source": [
    "import random\n",
    "\n",
    "data_list = random.sample(range(100), 10)\n",
    "\n",
    "qsort(data_list)"
   ]
  },
  {
   "cell_type": "markdown",
   "id": "403cfd9c",
   "metadata": {},
   "source": [
    "#### 알고리즘 분석\n",
    "- 병합정렬과 유사하며, 시간복잡도는 O(nlog n)\n",
    "- 단, 최악의 경우는 다음과 같다.\n",
    "    - 맨 처음 pivot 이 가장 크거나 가장 작으면 모든 데이터를 비교하는 상황이 나오게 된다.\n",
    "    - O(n^2)\n",
    "    \n",
    "#### 분할 정복?\n",
    "- 기준점을 사이에 두고 왼쪽, 오른쪽, 왼쪽 오른쪽..... 과 같이 길이가 긴 리스트를 잘게 잘게 쪼개서 분류하여 정렬을 하는 알고리즘이다.\n",
    "- 하향식 접근법을 이용하여 알고리즘을 수행하므로 분할 정복법에 해당한다."
   ]
  }
 ],
 "metadata": {
  "kernelspec": {
   "display_name": "Python 3",
   "language": "python",
   "name": "python3"
  },
  "language_info": {
   "codemirror_mode": {
    "name": "ipython",
    "version": 3
   },
   "file_extension": ".py",
   "mimetype": "text/x-python",
   "name": "python",
   "nbconvert_exporter": "python",
   "pygments_lexer": "ipython3",
   "version": "3.8.8"
  }
 },
 "nbformat": 4,
 "nbformat_minor": 5
}
