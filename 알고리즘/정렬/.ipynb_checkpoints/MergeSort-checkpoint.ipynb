{
 "cells": [
  {
   "cell_type": "markdown",
   "id": "f1858285",
   "metadata": {},
   "source": [
    "### 병합 정렬(Merge Sort)\n",
    "- 재귀 용법을 활용한 정렬 알고리즘\n",
    "1. 리스트를 절반으로 잘라 비슷한 크기의 두 부분 리스트로 나눈다.\n",
    "2. 각 부분 리스트를 재귀적으로 합병 정렬을 이용해 정렬한다.\n",
    "3. 두 부분 리스트를 다시 하나의 정렬된 리스트로 합병한다.\n",
    "\n",
    "- 분할 정복 알고리즘의 대표적인 예시 중 하나이다.\n",
    "- 병합 정렬은 하나의 함수를 가지고 재귀 호출을 했던 지금까지 와는 달리 함수 2개를 가지고 재귀 호출을 하는 알고리즘 이다.\n",
    "    - 하나는 리스트를 절반으로 자르는 함수\n",
    "    - 또 하나는 정렬된 리스트를 병합해주는 함수"
   ]
  },
  {
   "cell_type": "code",
   "execution_count": 1,
   "id": "6450fa78",
   "metadata": {},
   "outputs": [],
   "source": [
    "# 어떤 데이터 리스트가 있을 때 리스트를 앞 뒤로 자르는 코드 작성해보기\n",
    "def split(data):\n",
    "    medium = int(len(data)/2)\n",
    "    left = data[:medium]\n",
    "    right = data[medium:]\n",
    "    print(left, right)"
   ]
  },
  {
   "cell_type": "code",
   "execution_count": 3,
   "id": "c1425d9d",
   "metadata": {},
   "outputs": [
    {
     "name": "stdout",
     "output_type": "stream",
     "text": [
      "[3, 4] [1, 3, 2]\n"
     ]
    }
   ],
   "source": [
    "data_list = [3,4,1,3,2]\n",
    "split(data_list)"
   ]
  },
  {
   "cell_type": "code",
   "execution_count": 4,
   "id": "49e5796c",
   "metadata": {},
   "outputs": [],
   "source": [
    "# 재귀적으로 리스트를 자르다가, 길이가 1이 되는 경우 data 리스트를 반환해주는 것으로 시작\n",
    "# 길이가 1 보다 큰 경우 호출되었던 함수는 merge(left, right) 호출(left, right 에 길이가 1 인 상태로 리턴받은 리스트가 존재함)\n",
    "# merge 된 결과를 또 다시 그 이전에 호출된 함수에서 left, right 에 각각 반환받는 방식으로 재귀 호출이 이루어진다.\n",
    "def mergesplit(data):\n",
    "    if len(data) <= 1:\n",
    "        return data\n",
    "    medium = int(len(data)/2)\n",
    "    left = mergesplit(data[:medium])\n",
    "    right = mergesplit(data[medium:])\n",
    "    return merge(left, right)"
   ]
  },
  {
   "cell_type": "code",
   "execution_count": 5,
   "id": "6a612bdd",
   "metadata": {},
   "outputs": [],
   "source": [
    "# merge 함수의 경우 left, right 2개의 리스트에서 가장 앞에 있는 값을 기준으로 리스트에 있는 숫자를 비교하여\n",
    "# 그 중 작은 값을 병합 리스트의 첫번째 인덱스에 적재하는 방식으로 리스트 병합을 수행한다.(정렬)\n",
    "# 단순히 리스트를 병합하는 것이 아니라, 숫자들을 정렬하면서 병합한다.\n",
    "def merge(left, right):\n",
    "    merged = list()\n",
    "    left_point, right_point = 0, 0 # 두 리스트의 인덱스 0 에서부터 비교 시작\n",
    "    \n",
    "    # case 1 : left/right 가 아직 남아 있을 때\n",
    "    while len(left) > left_point and len(right) > right_point:\n",
    "        if left[left_point] > right[right_point]:\n",
    "            merged.append(right[right_point])\n",
    "            right_point += 1\n",
    "        else:\n",
    "            merged.append(left[left_point])\n",
    "            left_point += 1\n",
    "    # case 2 : left 만 남아있을 때\n",
    "    while len(left) > left_point:\n",
    "        merged.append(left[left_point])\n",
    "        left_point += 1\n",
    "    # case 3 : right 만 남아있을 때\n",
    "    while len(right) > right_point:\n",
    "        merged.append(right[right_point])\n",
    "        right_point += 1\n",
    "    \n",
    "    return merged"
   ]
  },
  {
   "cell_type": "code",
   "execution_count": 7,
   "id": "3bb3c060",
   "metadata": {},
   "outputs": [
    {
     "data": {
      "text/plain": [
       "[0, 12, 15, 16, 44, 69, 70, 71, 79, 92]"
      ]
     },
     "execution_count": 7,
     "metadata": {},
     "output_type": "execute_result"
    }
   ],
   "source": [
    "import random\n",
    "\n",
    "data_list = random.sample(range(100), 10)\n",
    "\n",
    "mergesplit(data_list)"
   ]
  },
  {
   "cell_type": "markdown",
   "id": "225ac61c",
   "metadata": {},
   "source": [
    "#### 알고리즘 분석\n",
    "- 각 단계는 항상 O(n), 그리고 단계는 항상 log2n 개 만큼 만들어 지므로 O(log n)\n",
    "- 단계별 시간 복잡도 O(n) * O(log n) = O(nlog n)"
   ]
  }
 ],
 "metadata": {
  "kernelspec": {
   "display_name": "Python 3",
   "language": "python",
   "name": "python3"
  },
  "language_info": {
   "codemirror_mode": {
    "name": "ipython",
    "version": 3
   },
   "file_extension": ".py",
   "mimetype": "text/x-python",
   "name": "python",
   "nbconvert_exporter": "python",
   "pygments_lexer": "ipython3",
   "version": "3.8.8"
  }
 },
 "nbformat": 4,
 "nbformat_minor": 5
}
