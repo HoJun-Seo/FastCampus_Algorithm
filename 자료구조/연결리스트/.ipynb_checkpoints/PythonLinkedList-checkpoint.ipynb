{
 "cells": [
  {
   "cell_type": "code",
   "execution_count": 1,
   "id": "379a13e7",
   "metadata": {},
   "outputs": [],
   "source": [
    "class Node: # Node 클래스를 통해 객체를 만들때 마다 연결 리스트의 노드가 하나씩 만들어진다.\n",
    "    def __init__(self, data):\n",
    "        self.data = data\n",
    "        self.next = None"
   ]
  },
  {
   "cell_type": "code",
   "execution_count": 2,
   "id": "a75f96a8",
   "metadata": {},
   "outputs": [],
   "source": [
    "class Node : # 좀 더 복잡하게, 다음 노드를 가리킬 주소까지 넣어준다.(default None)\n",
    "    def __init__(self, data, next=None):\n",
    "        self.data = data\n",
    "        self.next = next"
   ]
  },
  {
   "cell_type": "code",
   "execution_count": 3,
   "id": "7ea2fef4",
   "metadata": {},
   "outputs": [],
   "source": [
    "node1 = Node(1)"
   ]
  },
  {
   "cell_type": "code",
   "execution_count": 4,
   "id": "3c843d13",
   "metadata": {},
   "outputs": [],
   "source": [
    "node2 = Node(2)"
   ]
  },
  {
   "cell_type": "code",
   "execution_count": 5,
   "id": "cd4f4433",
   "metadata": {},
   "outputs": [],
   "source": [
    "# 노드 간 연결\n",
    "node1.next = node2\n",
    "head = node1 # 연결 리스트 시작 노드를 따로 저장해준다."
   ]
  },
  {
   "cell_type": "code",
   "execution_count": 6,
   "id": "f56dd27b",
   "metadata": {},
   "outputs": [],
   "source": [
    "class Node:\n",
    "    def __init__(self, data, next=None):\n",
    "        self.data = data\n",
    "        self.next = next\n",
    "\n",
    "# 별도로 데이터 저장 함수 생성\n",
    "def add(data):\n",
    "    node = head\n",
    "    while node.next: # 데이터는 리스트의 가장 끝 부터 저장된다.\n",
    "        node = node.next\n",
    "    node.next = Node(data)\n",
    "    # while 문을 통해 연결 리스트의 끝까지 왔으므로 현재 노드의 다음 위치에 노드를 하나 더 생성한다."
   ]
  },
  {
   "cell_type": "code",
   "execution_count": 7,
   "id": "b34bdc22",
   "metadata": {},
   "outputs": [],
   "source": [
    "node1 = Node(1)\n",
    "head = node1\n",
    "for index in range(2, 10):\n",
    "    add(index)"
   ]
  },
  {
   "cell_type": "code",
   "execution_count": 10,
   "id": "6777bf96",
   "metadata": {},
   "outputs": [
    {
     "name": "stdout",
     "output_type": "stream",
     "text": [
      "1\n",
      "2\n",
      "3\n",
      "4\n",
      "5\n",
      "6\n",
      "7\n",
      "8\n",
      "9\n"
     ]
    }
   ],
   "source": [
    "node = head\n",
    "while node.next:\n",
    "    print(node.data)\n",
    "    node = node.next\n",
    "print(node.data)"
   ]
  },
  {
   "cell_type": "code",
   "execution_count": 11,
   "id": "79122d4e",
   "metadata": {},
   "outputs": [],
   "source": [
    "node3 = Node(1.5)"
   ]
  },
  {
   "cell_type": "code",
   "execution_count": 13,
   "id": "ed59bd10",
   "metadata": {},
   "outputs": [],
   "source": [
    "node = head\n",
    "search = True\n",
    "while search:\n",
    "    if node.data == 1: # 데이터를 끼워 넣어줄 위치\n",
    "        search = False # 반복문 정지\n",
    "    else:\n",
    "        node = node.next # 끼워넣을 위치가 아닐 경우 다음 위치 이동\n",
    "node_next = node.next\n",
    "node.next = node3 # 데이터 끼워넣기\n",
    "node3.next = node_next"
   ]
  },
  {
   "cell_type": "code",
   "execution_count": 14,
   "id": "ab784370",
   "metadata": {},
   "outputs": [
    {
     "name": "stdout",
     "output_type": "stream",
     "text": [
      "1\n",
      "1.5\n",
      "2\n",
      "3\n",
      "4\n",
      "5\n",
      "6\n",
      "7\n",
      "8\n",
      "9\n"
     ]
    }
   ],
   "source": [
    "node = head\n",
    "while node.next:\n",
    "    print(node.data)\n",
    "    node = node.next\n",
    "print(node.data)"
   ]
  },
  {
   "cell_type": "markdown",
   "id": "2ceda8ca",
   "metadata": {},
   "source": [
    "# 파이썬 객체지향으로 연결 리스트 구현하기"
   ]
  },
  {
   "cell_type": "code",
   "execution_count": 18,
   "id": "0dfeb133",
   "metadata": {},
   "outputs": [],
   "source": [
    "class Node:\n",
    "    def __init__(self, data, next=None):\n",
    "        self.data = data\n",
    "        self.next = next\n",
    "        \n",
    "class NodeMgmt:# 연결 리스트로서 연결되어 있는 노드들을 관리하기 위한 클래스\n",
    "    # NodeMgmt 객체를 만들때 data 변수에 연결 리스트의 가장 앞에 있는 객체를 받아온다.\n",
    "    def __init__(self, data):\n",
    "        self.head = Node(data)\n",
    "    \n",
    "    def add(self, data): # 연결 리스트의 맨 끝에 데이터를 추가해주는 메소드\n",
    "        if self.head == \"\": # 일종의 방어코드\n",
    "            self.head = Node(data) # 만약 연결 리스트의 head 값이 존재하지 않는다면 head 데이터를 새로 만들어준다.\n",
    "        else:\n",
    "            node = self.head\n",
    "            while node.next:\n",
    "                node = node.next\n",
    "            node.next = Node(data)\n",
    "        \n",
    "    def desc(self) : # 연결 리스트의 전체 내용을 출력시켜 주는 메소드\n",
    "        node = self.head\n",
    "        while node:\n",
    "            print(node.data)\n",
    "            node = node.next\n",
    "        "
   ]
  },
  {
   "cell_type": "code",
   "execution_count": 19,
   "id": "462a8c77",
   "metadata": {},
   "outputs": [
    {
     "name": "stdout",
     "output_type": "stream",
     "text": [
      "0\n"
     ]
    }
   ],
   "source": [
    "linkedlist1 = NodeMgmt(0)\n",
    "linkedlist1.desc()"
   ]
  },
  {
   "cell_type": "code",
   "execution_count": 20,
   "id": "22b25482",
   "metadata": {},
   "outputs": [
    {
     "name": "stdout",
     "output_type": "stream",
     "text": [
      "0\n",
      "1\n",
      "2\n",
      "3\n",
      "4\n",
      "5\n",
      "6\n",
      "7\n",
      "8\n",
      "9\n"
     ]
    }
   ],
   "source": [
    "for data in range(1,10):\n",
    "    linkedlist1.add(data)\n",
    "linkedlist1.desc()"
   ]
  },
  {
   "cell_type": "markdown",
   "id": "e6eb6d68",
   "metadata": {},
   "source": [
    "# 연결 리스트에서 노드를 삭제하는 경우"
   ]
  },
  {
   "cell_type": "markdown",
   "id": "35e88fb6",
   "metadata": {},
   "source": [
    "- 첫번째 노드를 삭제 하는 경우 결과적으로 헤드가 변경 되어야 한다.\n",
    "- 마지막 노드를 삭제 하는 경우 그 앞에 있는 노드가 가리키는 주소값을 None 으로 바꿔주어야 한다.\n",
    "- 중간에 있는 노드를 삭제하는 경우 그 앞에 있는 노드가 가리키는 주소가 삭제된 노드의 다음에 있는 \n",
    "주소를 가리키게 해줘야 한다."
   ]
  },
  {
   "cell_type": "code",
   "execution_count": 2,
   "id": "696a997e",
   "metadata": {},
   "outputs": [],
   "source": [
    "class Node:\n",
    "    def __init__(self, data, next=None):\n",
    "        self.data = data\n",
    "        self.next = next\n",
    "        \n",
    "class NodeMgmt:# 연결 리스트로서 연결되어 있는 노드들을 관리하기 위한 클래스\n",
    "    # NodeMgmt 객체를 만들때 data 변수에 연결 리스트의 가장 앞에 있는 객체를 받아온다.\n",
    "    def __init__(self, data):\n",
    "        self.head = Node(data)\n",
    "    \n",
    "    def add(self, data): # 연결 리스트의 맨 끝에 데이터를 추가해주는 메소드\n",
    "        if self.head == \"\": # 일종의 방어코드\n",
    "            self.head = Node(data) # 만약 연결 리스트의 head 값이 존재하지 않는다면 head 데이터를 새로 만들어준다.\n",
    "        else:\n",
    "            node = self.head\n",
    "            while node.next:\n",
    "                node = node.next\n",
    "            node.next = Node(data)\n",
    "        \n",
    "    def desc(self) : # 연결 리스트의 전체 내용을 출력시켜 주는 메소드\n",
    "        node = self.head\n",
    "        while node:\n",
    "            print(node.data)\n",
    "            node = node.next\n",
    "            \n",
    "    # 삭제 메소드 추가\n",
    "    def delete(self, data):\n",
    "        if self.head == '': # 헤드가 존재하지 않는 경우\n",
    "            print(\"해당 값을 가진 노드가 없습니다.\")\n",
    "            return\n",
    "        elif self.head.data == data: # 헤드를 삭제하는 경우\n",
    "            temp = self.head\n",
    "            self.head = self.head.next\n",
    "            del temp # 객체 삭제\n",
    "            return\n",
    "        else: # 중간 노드, 또는 마지막 노드 삭제의 경우\n",
    "            node = self.head\n",
    "            while node.next:\n",
    "                if node.next.data == data: # 다음 탐색 데이터가 삭제하고자 하는 노드일 경우\n",
    "                    temp = node.next\n",
    "                    node.next = node.next.next # 삭제된 노드가 가리키고 있던 주소를 적재\n",
    "                    del temp\n",
    "                    return\n",
    "                else:\n",
    "                    node = node.next # 아닐 경우 반복문 계속 수행\n",
    "            "
   ]
  },
  {
   "cell_type": "code",
   "execution_count": 3,
   "id": "e33e1272",
   "metadata": {},
   "outputs": [
    {
     "name": "stdout",
     "output_type": "stream",
     "text": [
      "0\n"
     ]
    }
   ],
   "source": [
    "linkedlist1 = NodeMgmt(0)\n",
    "linkedlist1.desc()"
   ]
  },
  {
   "cell_type": "code",
   "execution_count": 4,
   "id": "ad239531",
   "metadata": {},
   "outputs": [
    {
     "data": {
      "text/plain": [
       "<__main__.Node at 0x1ec69afe9d0>"
      ]
     },
     "execution_count": 4,
     "metadata": {},
     "output_type": "execute_result"
    }
   ],
   "source": [
    "linkedlist1.head"
   ]
  },
  {
   "cell_type": "code",
   "execution_count": 5,
   "id": "45454b05",
   "metadata": {},
   "outputs": [],
   "source": [
    "linkedlist1.delete(0)"
   ]
  },
  {
   "cell_type": "code",
   "execution_count": 6,
   "id": "a5f303fd",
   "metadata": {},
   "outputs": [],
   "source": [
    "linkedlist1.head"
   ]
  },
  {
   "cell_type": "code",
   "execution_count": 7,
   "id": "b9b16966",
   "metadata": {},
   "outputs": [],
   "source": [
    "linkedlist1 = NodeMgmt(0)"
   ]
  },
  {
   "cell_type": "code",
   "execution_count": 8,
   "id": "8e859a3f",
   "metadata": {},
   "outputs": [],
   "source": [
    "for data in range(1,10):\n",
    "    linkedlist1.add(data)"
   ]
  },
  {
   "cell_type": "code",
   "execution_count": 9,
   "id": "2c559930",
   "metadata": {},
   "outputs": [
    {
     "name": "stdout",
     "output_type": "stream",
     "text": [
      "0\n",
      "1\n",
      "2\n",
      "3\n",
      "4\n",
      "5\n",
      "6\n",
      "7\n",
      "8\n",
      "9\n"
     ]
    }
   ],
   "source": [
    "linkedlist1.desc()"
   ]
  },
  {
   "cell_type": "code",
   "execution_count": 10,
   "id": "861bc39b",
   "metadata": {},
   "outputs": [],
   "source": [
    "linkedlist1.delete(4)"
   ]
  },
  {
   "cell_type": "code",
   "execution_count": 11,
   "id": "ed7d7171",
   "metadata": {},
   "outputs": [
    {
     "name": "stdout",
     "output_type": "stream",
     "text": [
      "0\n",
      "1\n",
      "2\n",
      "3\n",
      "5\n",
      "6\n",
      "7\n",
      "8\n",
      "9\n"
     ]
    }
   ],
   "source": [
    "linkedlist1.desc()"
   ]
  },
  {
   "cell_type": "code",
   "execution_count": 12,
   "id": "17b9efe5",
   "metadata": {},
   "outputs": [],
   "source": [
    "linkedlist1.delete(9)"
   ]
  },
  {
   "cell_type": "code",
   "execution_count": 13,
   "id": "099061b8",
   "metadata": {},
   "outputs": [
    {
     "name": "stdout",
     "output_type": "stream",
     "text": [
      "0\n",
      "1\n",
      "2\n",
      "3\n",
      "5\n",
      "6\n",
      "7\n",
      "8\n"
     ]
    }
   ],
   "source": [
    "linkedlist1.desc()"
   ]
  },
  {
   "cell_type": "code",
   "execution_count": 14,
   "id": "c26cd5ea",
   "metadata": {},
   "outputs": [],
   "source": [
    "linkedlist1.delete(0)"
   ]
  },
  {
   "cell_type": "code",
   "execution_count": 15,
   "id": "6171f9b4",
   "metadata": {},
   "outputs": [
    {
     "name": "stdout",
     "output_type": "stream",
     "text": [
      "1\n",
      "2\n",
      "3\n",
      "5\n",
      "6\n",
      "7\n",
      "8\n"
     ]
    }
   ],
   "source": [
    "linkedlist1.desc()"
   ]
  },
  {
   "cell_type": "markdown",
   "id": "eb39b6d2",
   "metadata": {},
   "source": [
    "# 다양한 연결 리스트 구조\n",
    "- 더블 연결 리스트(Doubly LinkedList) 기본 구조\n",
    "- 기존 연결리스트 구조의 단점\n",
    "    - 연결 리스트의 길이가 길어질 경우 원하는 데이터를 찾을 때 최악의 경우 연결 리스트의 최대 길이만큼 탐색해야 한다.\n",
    "    - 연결 리스트는 데이터를 헤더에서 부터 순차 탐색으로 찾기 때문이다.\n",
    "- 장점 : 양방향으로 연결되어 있어서 노드 탐색이 양쪽으로 모두 가능(자바의 경우 ListIterator 클래스)\n",
    "    - 데이터를 탐색할 때 찾고자 하는 데이터가 리스트의 후반부 쯤에 있을 경우\n",
    "    - 리스트의 가장 뒤에서 부터 앞으로 탐색하면 기존의 리스트 보다 더 빨리 데이터를 찾을 수 있다.\n",
    "- 이중 연결 리스트는 기존의 연결 리스트가 자신의 다음에 있는 노드의 주소를 가지고 있는것과 달리 자신의 앞에 있는 노드의 주소 또한 가지고 있으며, 이를 통해 리스트 내부에서 데이터를 탐색할 때 양방향으로 이동하며 탐색할 수 있게 된다."
   ]
  },
  {
   "cell_type": "code",
   "execution_count": 57,
   "id": "c9c84aac",
   "metadata": {},
   "outputs": [],
   "source": [
    "class Node:\n",
    "    def __init__(self, data, prev=None, next=None):\n",
    "        self.prev = prev\n",
    "        self.data = data\n",
    "        self.next = next\n",
    "        \n",
    "class NodeMgmt:\n",
    "    def __init__ (self, data):\n",
    "        self.head = Node(data)\n",
    "        self.tail = self.head # 리스트의 가장 끝에 위치할 노드\n",
    "        \n",
    "    def insert(self, data): # 데이터를 리스트의 가장 뒤에 삽입한다.\n",
    "         if self.head == None: # 헤드가 없는 경우, 즉 리스트가 없는 경우 헤드를 새로 생성하여 리스트를 만든다.\n",
    "            self.head = Node(data)\n",
    "            self.tail = self.head\n",
    "         else: # 연결 리스트의 끝 자리에 대한 데이터를 가지고 있으므로 반복문은 필요하지 않음\n",
    "            node = self.tail\n",
    "            new = Node(data)\n",
    "            node.next = new\n",
    "            new.prev = node\n",
    "            self.tail = new\n",
    "                \n",
    "    def desc(self):\n",
    "        node = self.head\n",
    "        while node:\n",
    "            print(node.data)\n",
    "            node = node.next\n",
    "    \n",
    "    def search_from_head(self, data):\n",
    "        if self.head == None:\n",
    "            return False\n",
    "        \n",
    "        node = self.head\n",
    "        while node:\n",
    "            if node.data == data:\n",
    "                return node\n",
    "            else:\n",
    "                node = node.next\n",
    "        return False\n",
    "    \n",
    "    def search_from_tail(self, data):\n",
    "        if self.tail == None:\n",
    "            return False\n",
    "        \n",
    "        node = self.tail\n",
    "        while node:\n",
    "            if node.data == data:\n",
    "                return node\n",
    "            else:\n",
    "                node = node.prev\n",
    "        return False"
   ]
  },
  {
   "cell_type": "code",
   "execution_count": 58,
   "id": "38f73f95",
   "metadata": {},
   "outputs": [
    {
     "name": "stdout",
     "output_type": "stream",
     "text": [
      "0\n",
      "1\n",
      "2\n",
      "3\n",
      "4\n",
      "5\n",
      "6\n",
      "7\n",
      "8\n",
      "9\n"
     ]
    }
   ],
   "source": [
    "double_linkedlist = NodeMgmt(0)\n",
    "for data in range(1,10):\n",
    "    double_linkedlist.insert(data)\n",
    "double_linkedlist.desc()"
   ]
  },
  {
   "cell_type": "code",
   "execution_count": 56,
   "id": "9e8a44c3",
   "metadata": {},
   "outputs": [
    {
     "data": {
      "text/plain": [
       "3"
      ]
     },
     "execution_count": 56,
     "metadata": {},
     "output_type": "execute_result"
    }
   ],
   "source": [
    "searchNode = double_linkedlist.search_from_head(3)\n",
    "searchNode.data"
   ]
  },
  {
   "cell_type": "code",
   "execution_count": 59,
   "id": "c1396c9e",
   "metadata": {},
   "outputs": [
    {
     "data": {
      "text/plain": [
       "7"
      ]
     },
     "execution_count": 59,
     "metadata": {},
     "output_type": "execute_result"
    }
   ],
   "source": [
    "searchNodeTail = double_linkedlist.search_from_tail(7)\n",
    "searchNodeTail.data"
   ]
  },
  {
   "cell_type": "code",
   "execution_count": 60,
   "id": "ea9b9a7f",
   "metadata": {},
   "outputs": [
    {
     "ename": "AttributeError",
     "evalue": "'bool' object has no attribute 'data'",
     "output_type": "error",
     "traceback": [
      "\u001b[1;31m---------------------------------------------------------------------------\u001b[0m",
      "\u001b[1;31mAttributeError\u001b[0m                            Traceback (most recent call last)",
      "\u001b[1;32m<ipython-input-60-c7b2ac318ae8>\u001b[0m in \u001b[0;36m<module>\u001b[1;34m\u001b[0m\n\u001b[0;32m      1\u001b[0m \u001b[0msearchNodeTail\u001b[0m \u001b[1;33m=\u001b[0m \u001b[0mdouble_linkedlist\u001b[0m\u001b[1;33m.\u001b[0m\u001b[0msearch_from_tail\u001b[0m\u001b[1;33m(\u001b[0m\u001b[1;36m11\u001b[0m\u001b[1;33m)\u001b[0m\u001b[1;33m\u001b[0m\u001b[1;33m\u001b[0m\u001b[0m\n\u001b[1;32m----> 2\u001b[1;33m \u001b[0msearchNodeTail\u001b[0m\u001b[1;33m.\u001b[0m\u001b[0mdata\u001b[0m\u001b[1;33m\u001b[0m\u001b[1;33m\u001b[0m\u001b[0m\n\u001b[0m",
      "\u001b[1;31mAttributeError\u001b[0m: 'bool' object has no attribute 'data'"
     ]
    }
   ],
   "source": [
    "searchNodeTail = double_linkedlist.search_from_tail(11)\n",
    "searchNodeTail.data # 값이 None 인 경우 에러 출력"
   ]
  },
  {
   "cell_type": "markdown",
   "id": "df1ca4f1",
   "metadata": {},
   "source": [
    "# 노드 데이터가 특정 숫자인 노드 앞에 데이터를 추가하는 함수 생성 및 테스트"
   ]
  },
  {
   "cell_type": "code",
   "execution_count": null,
   "id": "ff1858b4",
   "metadata": {},
   "outputs": [],
   "source": [
    "class Node:\n",
    "    def __init__(self, data, prev=None, next=None):\n",
    "        self.prev = prev\n",
    "        self.data = data\n",
    "        self.next = next\n",
    "        \n",
    "class NodeMgmt:\n",
    "    def __init__ (self, data):\n",
    "        self.head = Node(data)\n",
    "        self.tail = self.head # 리스트의 가장 끝에 위치할 노드\n",
    "        \n",
    "    def insert(self, data): # 데이터를 리스트의 가장 뒤에 삽입한다.\n",
    "         if self.head == None: # 헤드가 없는 경우, 즉 리스트가 없는 경우 헤드를 새로 생성하여 리스트를 만든다.\n",
    "            self.head = Node(data)\n",
    "            self.tail = self.head\n",
    "         else: # 연결 리스트의 끝 자리에 대한 데이터를 가지고 있으므로 반복문은 필요하지 않음\n",
    "            node = self.tail\n",
    "            new = Node(data)\n",
    "            node.next = new\n",
    "            new.prev = node\n",
    "            self.tail = new\n",
    "                \n",
    "    def desc(self):\n",
    "        node = self.head\n",
    "        while node:\n",
    "            print(node.data)\n",
    "            node = node.next\n",
    "    \n",
    "    def search_from_head(self, data):\n",
    "        if self.head == None:\n",
    "            return False\n",
    "        \n",
    "        node = self.head\n",
    "        while node:\n",
    "            if node.data == data:\n",
    "                return node\n",
    "            else:\n",
    "                node = node.next\n",
    "        return False\n",
    "    \n",
    "    def search_from_tail(self, data):\n",
    "        if self.tail == None:\n",
    "            return False\n",
    "        \n",
    "        node = self.tail\n",
    "        while node:\n",
    "            if node.data == data:\n",
    "                return node\n",
    "            else:\n",
    "                node = node.prev\n",
    "        return False\n",
    "    \n",
    "    def interleave(self, data, before_data):\n",
    "        # 노드 객체가 아닌 숫자 데이터로 이전 숫자에 대한 정보를 받았을 경우 \n",
    "        # 우선 리스트에 이전 숫자가 존재하는지 여부 부터 확인해야 한다.\n",
    "        \n",
    "        if self.head == None:\n",
    "            self.head = Node(data)\n",
    "            return True\n",
    "        else:\n",
    "            node = self.tail # 리스트의 뒤에서 부터 이전 숫자가 존재하는지 찾는다.\n",
    "            while node.data != before_data:\n",
    "                node = node.prev # 현재 노드의 데이터가 이전 숫자와 다를 경우 계속 리스트의 앞으로 가면서 찾는다. \n",
    "                if(node == None): # 리스트의 맨 앞까지 갔으나 이전 숫자를 찾지 못한 경우\n",
    "                    return False\n",
    "            \n",
    "            # 이전 숫자를 찾은 이후 로직\n",
    "            new = Node(data) # 입력받은 숫자로 노드 생성\n",
    "            before_new = node.prev # 원래 이전 숫자의 앞에 있던 데이터를 따로 저장해준다.\n",
    "            before_new.next = new # 끼워넣은 노드의 앞에 있는 노드에서 next 주소 지정\n",
    "            node.prev = new # 끼워넣은 노드의 뒤에 있는 노드에서 prev 주소 지정\n",
    "            new.prev = before_new # 끼워넣은 노드의 앞 노드 주소지정\n",
    "            new.next = node # 끼워넣은 노드의 뒷 노드 주소지정\n",
    "            return True"
   ]
  }
 ],
 "metadata": {
  "kernelspec": {
   "display_name": "Python 3",
   "language": "python",
   "name": "python3"
  },
  "language_info": {
   "codemirror_mode": {
    "name": "ipython",
    "version": 3
   },
   "file_extension": ".py",
   "mimetype": "text/x-python",
   "name": "python",
   "nbconvert_exporter": "python",
   "pygments_lexer": "ipython3",
   "version": "3.8.8"
  }
 },
 "nbformat": 4,
 "nbformat_minor": 5
}
