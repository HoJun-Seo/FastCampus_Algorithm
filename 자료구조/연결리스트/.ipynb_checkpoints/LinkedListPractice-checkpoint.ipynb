{
 "cells": [
  {
   "cell_type": "code",
   "execution_count": 2,
   "id": "2bbf49e9",
   "metadata": {},
   "outputs": [],
   "source": [
    "class Node:\n",
    "    def __init__(self, data, next=None):\n",
    "        self.data = data\n",
    "        self.next = next"
   ]
  },
  {
   "cell_type": "code",
   "execution_count": 3,
   "id": "72e4161d",
   "metadata": {},
   "outputs": [],
   "source": [
    "node = Node(1)"
   ]
  },
  {
   "cell_type": "code",
   "execution_count": 4,
   "id": "4404119a",
   "metadata": {},
   "outputs": [
    {
     "name": "stdout",
     "output_type": "stream",
     "text": [
      "1\n"
     ]
    }
   ],
   "source": [
    "print(node.data)"
   ]
  },
  {
   "cell_type": "code",
   "execution_count": 146,
   "id": "866bf863",
   "metadata": {},
   "outputs": [],
   "source": [
    "class Ngmt:\n",
    "    def __init__(self, data): # data 에 head 를 가져온다.\n",
    "        self.head = Node(data)\n",
    "        \n",
    "    # head 부터 시작하여 연결 리스트를 끝까지 순회 후\n",
    "    # 연결 리스트 마지막에 데이터를 추가해준다.\n",
    "    def add(self, data):\n",
    "        node = self.head\n",
    "        while node.next:\n",
    "            node = node.next\n",
    "        node.next = Node(data)\n",
    "            \n",
    "    def listPrint(self):\n",
    "        node = self.head\n",
    "        while node.next:\n",
    "            print(node.data)\n",
    "            node = node.next\n",
    "        print(node.data)\n",
    "        \n",
    "    def delete(self, data):\n",
    "        # 헤드를 삭제하는 경우\n",
    "        print(\"delete 시작\")\n",
    "        if self.head.data == data:\n",
    "            print(\"헤드 삭제\")\n",
    "            temp = self.head\n",
    "            self.head = self.head.next\n",
    "            del temp\n",
    "            return\n",
    "        elif self.head.data != data: # 중간 노드 또는 마지막 노드를 삭제하는 경우\n",
    "            print(\"else 시작\")\n",
    "            node = self.head\n",
    "            while node.next:\n",
    "                print(\"현재 노드 데이터 : \" + str(node.data))\n",
    "                if node.next.data == data: # 노드 삭제 이후 끊어진 노드를 이어줘야 하므로 node.next를 기준으로 조건 검증\n",
    "                    temp = node.next\n",
    "                    node.next = node.next.next\n",
    "                    del temp\n",
    "                    print(\"데이터 삭제 성공!!\")\n",
    "                    return\n",
    "                elif node.data != data:\n",
    "                    print(\"다음 노드 데이터 : \" + str(node.next.data))\n",
    "                    node = node.next"
   ]
  },
  {
   "cell_type": "code",
   "execution_count": 147,
   "id": "95be6d86",
   "metadata": {},
   "outputs": [],
   "source": [
    "delnode = Ngmt(1)"
   ]
  },
  {
   "cell_type": "code",
   "execution_count": 148,
   "id": "2d09575f",
   "metadata": {},
   "outputs": [
    {
     "name": "stdout",
     "output_type": "stream",
     "text": [
      "1\n"
     ]
    }
   ],
   "source": [
    "print(delnode.head.data)"
   ]
  },
  {
   "cell_type": "code",
   "execution_count": 149,
   "id": "e349d0e3",
   "metadata": {},
   "outputs": [],
   "source": [
    "for i in range(2,10):\n",
    "    delnode.add(i)"
   ]
  },
  {
   "cell_type": "code",
   "execution_count": 150,
   "id": "95ccada6",
   "metadata": {},
   "outputs": [
    {
     "name": "stdout",
     "output_type": "stream",
     "text": [
      "1\n",
      "2\n",
      "3\n",
      "4\n",
      "5\n",
      "6\n",
      "7\n",
      "8\n",
      "9\n"
     ]
    }
   ],
   "source": [
    "delnode.listPrint()"
   ]
  },
  {
   "cell_type": "code",
   "execution_count": 151,
   "id": "e32a5df5",
   "metadata": {},
   "outputs": [
    {
     "name": "stdout",
     "output_type": "stream",
     "text": [
      "delete 시작\n",
      "헤드 삭제\n"
     ]
    }
   ],
   "source": [
    "delnode.delete(1)"
   ]
  },
  {
   "cell_type": "code",
   "execution_count": 152,
   "id": "a52c8550",
   "metadata": {},
   "outputs": [
    {
     "name": "stdout",
     "output_type": "stream",
     "text": [
      "2\n",
      "3\n",
      "4\n",
      "5\n",
      "6\n",
      "7\n",
      "8\n",
      "9\n"
     ]
    }
   ],
   "source": [
    "delnode.listPrint()"
   ]
  },
  {
   "cell_type": "code",
   "execution_count": 153,
   "id": "52535617",
   "metadata": {},
   "outputs": [
    {
     "name": "stdout",
     "output_type": "stream",
     "text": [
      "delete 시작\n",
      "else 시작\n",
      "현재 노드 데이터 : 2\n",
      "다음 노드 데이터 : 3\n",
      "현재 노드 데이터 : 3\n",
      "다음 노드 데이터 : 4\n",
      "현재 노드 데이터 : 4\n",
      "데이터 삭제 성공!!\n"
     ]
    }
   ],
   "source": [
    "delnode.delete(5)"
   ]
  },
  {
   "cell_type": "code",
   "execution_count": 138,
   "id": "5fcfc437",
   "metadata": {},
   "outputs": [
    {
     "name": "stdout",
     "output_type": "stream",
     "text": [
      "2\n",
      "3\n",
      "4\n",
      "5\n",
      "6\n",
      "7\n",
      "8\n",
      "9\n"
     ]
    }
   ],
   "source": [
    "delnode.listPrint()"
   ]
  },
  {
   "cell_type": "code",
   "execution_count": 112,
   "id": "3b8642f6",
   "metadata": {},
   "outputs": [
    {
     "name": "stdout",
     "output_type": "stream",
     "text": [
      "delete 시작\n",
      "else 시작\n",
      "3\n"
     ]
    }
   ],
   "source": [
    "delnode.delete(5)"
   ]
  },
  {
   "cell_type": "code",
   "execution_count": 111,
   "id": "6f551705",
   "metadata": {},
   "outputs": [
    {
     "name": "stdout",
     "output_type": "stream",
     "text": [
      "3\n",
      "4\n",
      "5\n",
      "6\n",
      "7\n",
      "8\n",
      "9\n"
     ]
    }
   ],
   "source": [
    "delnode.listPrint()"
   ]
  },
  {
   "cell_type": "code",
   "execution_count": 110,
   "id": "7be097e5",
   "metadata": {},
   "outputs": [
    {
     "name": "stdout",
     "output_type": "stream",
     "text": [
      "delete 시작\n",
      "헤드 삭제\n"
     ]
    }
   ],
   "source": [
    "delnode.delete(2)"
   ]
  },
  {
   "cell_type": "code",
   "execution_count": null,
   "id": "af6c728b",
   "metadata": {},
   "outputs": [],
   "source": []
  }
 ],
 "metadata": {
  "kernelspec": {
   "display_name": "Python 3",
   "language": "python",
   "name": "python3"
  },
  "language_info": {
   "codemirror_mode": {
    "name": "ipython",
    "version": 3
   },
   "file_extension": ".py",
   "mimetype": "text/x-python",
   "name": "python",
   "nbconvert_exporter": "python",
   "pygments_lexer": "ipython3",
   "version": "3.8.8"
  }
 },
 "nbformat": 4,
 "nbformat_minor": 5
}
