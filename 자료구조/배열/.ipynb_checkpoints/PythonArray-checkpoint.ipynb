{
 "cells": [
  {
   "cell_type": "markdown",
   "id": "704f491d",
   "metadata": {},
   "source": [
    "- 데이터를 나열하고, 각 데이터를 인덱스에 대응하도록 구성한 데이터 구조\n",
    "- 파이썬 에서는 리스트 타입이 배열 기능을 제공하고 있다.\n",
    "\n",
    "- 같은 종류의 데이터를 효율적으로 관리하기 위해 사용\n",
    "- 같은 종류의 데이터를 순차적으로 저장\n",
    "\n",
    "- 배열의 장점 : 인덱스를 통한 빠른 접근이 가능하다.\n",
    "- 배열의 단점 : 데이터의 추가 및 삭제가 어렵다.\n",
    "- 데이터가 중간에서 삭제된 경우 뒤에 있던 데이터를 앞으로 당겨오던가 하는 과정이 필요하다.\n",
    "- 최악의 경우 배열을 다시 선언해야 할 수도 있다.\n"
   ]
  },
  {
   "cell_type": "code",
   "execution_count": 1,
   "id": "4965c02f",
   "metadata": {},
   "outputs": [
    {
     "ename": "SyntaxError",
     "evalue": "invalid syntax (<ipython-input-1-5754e565896d>, line 3)",
     "output_type": "error",
     "traceback": [
      "\u001b[1;36m  File \u001b[1;32m\"<ipython-input-1-5754e565896d>\"\u001b[1;36m, line \u001b[1;32m3\u001b[0m\n\u001b[1;33m    int main(int argc, char *argv[])\u001b[0m\n\u001b[1;37m        ^\u001b[0m\n\u001b[1;31mSyntaxError\u001b[0m\u001b[1;31m:\u001b[0m invalid syntax\n"
     ]
    }
   ],
   "source": [
    "# C 언어에서 배열을 사용하는 경우\n",
    "#include<stdio.h>\n",
    "\n",
    "int main(int argc, char *argv[])\n",
    "{\n",
    "    char country[3]=\"US\";\n",
    "    printf(\"%c%c\\n\", country[0], country[1]);\n",
    "    printf(\"%s\\n\", country);\n",
    "    return 0;\n",
    "}"
   ]
  },
  {
   "cell_type": "code",
   "execution_count": 3,
   "id": "0147b2f8",
   "metadata": {},
   "outputs": [
    {
     "name": "stdout",
     "output_type": "stream",
     "text": [
      "US\n",
      "USA\n"
     ]
    }
   ],
   "source": [
    "# 파이썬에서 배열을 사용하는 경우\n",
    "# 매우 간단하게 활용할 수 있다.\n",
    "country='US'\n",
    "print(country)\n",
    "\n",
    "country = country + 'A' # 데이터의 추가도 쉽다.\n",
    "print(country)"
   ]
  },
  {
   "cell_type": "markdown",
   "id": "e9aaa8cb",
   "metadata": {},
   "source": [
    " - 파이썬에서의 배열은 사실상 리스트를 사용하는 것이다."
   ]
  },
  {
   "cell_type": "code",
   "execution_count": 4,
   "id": "8a243eed",
   "metadata": {},
   "outputs": [
    {
     "data": {
      "text/plain": [
       "[1, 2, 3, 4, 5]"
      ]
     },
     "execution_count": 4,
     "metadata": {},
     "output_type": "execute_result"
    }
   ],
   "source": [
    "# 1차원 배열 리스트로 구현 시\n",
    "data=[1,2,3,4,5]\n",
    "data # print 문 없이 배열 전체 내용 출력 가능"
   ]
  },
  {
   "cell_type": "code",
   "execution_count": 6,
   "id": "9e2e5527",
   "metadata": {},
   "outputs": [
    {
     "data": {
      "text/plain": [
       "[[1, 2, 3], [4, 5, 6], [7, 8, 9]]"
      ]
     },
     "execution_count": 6,
     "metadata": {},
     "output_type": "execute_result"
    }
   ],
   "source": [
    "# 2차원 배열 리스트로 구현 시\n",
    "data = [[1,2,3],[4,5,6],[7,8,9]] # 대괄호 내부에 있는 대괄호는 각 행을 나타낸다.\n",
    "data"
   ]
  },
  {
   "cell_type": "code",
   "execution_count": null,
   "id": "296dd4ac",
   "metadata": {},
   "outputs": [],
   "source": []
  }
 ],
 "metadata": {
  "kernelspec": {
   "display_name": "Python 3",
   "language": "python",
   "name": "python3"
  },
  "language_info": {
   "codemirror_mode": {
    "name": "ipython",
    "version": 3
   },
   "file_extension": ".py",
   "mimetype": "text/x-python",
   "name": "python",
   "nbconvert_exporter": "python",
   "pygments_lexer": "ipython3",
   "version": "3.8.8"
  }
 },
 "nbformat": 4,
 "nbformat_minor": 5
}
