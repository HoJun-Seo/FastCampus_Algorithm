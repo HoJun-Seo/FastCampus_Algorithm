{
 "cells": [
  {
   "cell_type": "code",
   "execution_count": 2,
   "id": "93cf8d0b",
   "metadata": {},
   "outputs": [
    {
     "name": "stdout",
     "output_type": "stream",
     "text": [
      "<class 'queue.Queue'>\n"
     ]
    }
   ],
   "source": [
    "import queue\n",
    "\n",
    "data_queue = queue.Queue()\n",
    "print(type(data_queue))"
   ]
  },
  {
   "cell_type": "code",
   "execution_count": 3,
   "id": "c2b09ef7",
   "metadata": {},
   "outputs": [],
   "source": [
    "data_queue.put(\"funcoding\")\n",
    "data_queue.put(1)"
   ]
  },
  {
   "cell_type": "code",
   "execution_count": 4,
   "id": "6f417100",
   "metadata": {},
   "outputs": [
    {
     "data": {
      "text/plain": [
       "2"
      ]
     },
     "execution_count": 4,
     "metadata": {},
     "output_type": "execute_result"
    }
   ],
   "source": [
    "data_queue.qsize()"
   ]
  },
  {
   "cell_type": "code",
   "execution_count": 5,
   "id": "ea117af6",
   "metadata": {},
   "outputs": [
    {
     "data": {
      "text/plain": [
       "'funcoding'"
      ]
     },
     "execution_count": 5,
     "metadata": {},
     "output_type": "execute_result"
    }
   ],
   "source": [
    "data_queue.get() #get 메소드에 인자를 넣어주진 않는다. 그냥 큐의 특징에 따라 가장 앞에 있는 데이터를 출력해준다."
   ]
  },
  {
   "cell_type": "code",
   "execution_count": 6,
   "id": "8ae0b00d",
   "metadata": {},
   "outputs": [
    {
     "data": {
      "text/plain": [
       "1"
      ]
     },
     "execution_count": 6,
     "metadata": {},
     "output_type": "execute_result"
    }
   ],
   "source": [
    "data_queue.qsize() # get() 메소드로 인해 funccoding 이 빠져나왔다."
   ]
  },
  {
   "cell_type": "code",
   "execution_count": 7,
   "id": "0a0360f9",
   "metadata": {},
   "outputs": [
    {
     "data": {
      "text/plain": [
       "1"
      ]
     },
     "execution_count": 7,
     "metadata": {},
     "output_type": "execute_result"
    }
   ],
   "source": [
    "data_queue.get()"
   ]
  },
  {
   "cell_type": "code",
   "execution_count": 8,
   "id": "e33c134d",
   "metadata": {},
   "outputs": [
    {
     "data": {
      "text/plain": [
       "0"
      ]
     },
     "execution_count": 8,
     "metadata": {},
     "output_type": "execute_result"
    }
   ],
   "source": [
    "data_queue.qsize()"
   ]
  },
  {
   "cell_type": "code",
   "execution_count": 9,
   "id": "dca7cf2f",
   "metadata": {},
   "outputs": [],
   "source": [
    "import queue\n",
    "data_queue = queue.LifoQueue()"
   ]
  },
  {
   "cell_type": "code",
   "execution_count": 10,
   "id": "cf5f86d5",
   "metadata": {},
   "outputs": [],
   "source": [
    "data_queue.put(\"funcoding\")"
   ]
  },
  {
   "cell_type": "code",
   "execution_count": 11,
   "id": "530b10a0",
   "metadata": {},
   "outputs": [],
   "source": [
    "data_queue.put(1)"
   ]
  },
  {
   "cell_type": "code",
   "execution_count": 12,
   "id": "cbf1dda5",
   "metadata": {},
   "outputs": [
    {
     "data": {
      "text/plain": [
       "2"
      ]
     },
     "execution_count": 12,
     "metadata": {},
     "output_type": "execute_result"
    }
   ],
   "source": [
    "data_queue.qsize()"
   ]
  },
  {
   "cell_type": "code",
   "execution_count": 13,
   "id": "6b2536cf",
   "metadata": {},
   "outputs": [
    {
     "data": {
      "text/plain": [
       "1"
      ]
     },
     "execution_count": 13,
     "metadata": {},
     "output_type": "execute_result"
    }
   ],
   "source": [
    "data_queue.get() # LifoQueue 는 스택과 같으므로 마지막에 넣은 데이터가 먼저 추출된다."
   ]
  },
  {
   "cell_type": "code",
   "execution_count": 14,
   "id": "802e0291",
   "metadata": {},
   "outputs": [],
   "source": [
    "# PriorityQueue() 로 큐 만들기(우선순위 큐 - 우선순위에 따라 추출되는 데이터가 달라진다.)\n",
    "data_queue = queue.PriorityQueue()"
   ]
  },
  {
   "cell_type": "code",
   "execution_count": 15,
   "id": "2f004277",
   "metadata": {},
   "outputs": [],
   "source": [
    "data_queue.put((10,\"korea\")) # 파이썬 튜플을 통해서 우선순위와 데이터를 지정해 삽입한다.\n",
    "# 앞에 오는 숫자가 우선순위 표기이다.\n",
    "data_queue.put((5,1))\n",
    "data_queue.put((15, \"china\"))"
   ]
  },
  {
   "cell_type": "code",
   "execution_count": 16,
   "id": "9b35669a",
   "metadata": {},
   "outputs": [
    {
     "data": {
      "text/plain": [
       "3"
      ]
     },
     "execution_count": 16,
     "metadata": {},
     "output_type": "execute_result"
    }
   ],
   "source": [
    "data_queue.qsize()"
   ]
  },
  {
   "cell_type": "code",
   "execution_count": 17,
   "id": "8d7eecf9",
   "metadata": {},
   "outputs": [
    {
     "data": {
      "text/plain": [
       "(5, 1)"
      ]
     },
     "execution_count": 17,
     "metadata": {},
     "output_type": "execute_result"
    }
   ],
   "source": [
    "data_queue.get() # 우선순위가 높은 데이터가 먼저 출력된다.(숫자가 낮을 수록 우선순위가 높다.)"
   ]
  },
  {
   "cell_type": "code",
   "execution_count": 18,
   "id": "b9fb3466",
   "metadata": {},
   "outputs": [
    {
     "data": {
      "text/plain": [
       "(10, 'korea')"
      ]
     },
     "execution_count": 18,
     "metadata": {},
     "output_type": "execute_result"
    }
   ],
   "source": [
    "data_queue.get()"
   ]
  },
  {
   "cell_type": "code",
   "execution_count": 19,
   "id": "1256519e",
   "metadata": {},
   "outputs": [
    {
     "data": {
      "text/plain": [
       "1"
      ]
     },
     "execution_count": 19,
     "metadata": {},
     "output_type": "execute_result"
    }
   ],
   "source": [
    "data_queue.qsize()"
   ]
  },
  {
   "cell_type": "code",
   "execution_count": 21,
   "id": "e71118b4",
   "metadata": {},
   "outputs": [
    {
     "data": {
      "text/plain": [
       "1"
      ]
     },
     "execution_count": 21,
     "metadata": {},
     "output_type": "execute_result"
    }
   ],
   "source": [
    "data_queue.qsize()"
   ]
  },
  {
   "cell_type": "code",
   "execution_count": 23,
   "id": "3b90762d",
   "metadata": {},
   "outputs": [],
   "source": [
    "# 운영체제 파트에서 멀티 태스킹을 위한 프로세스 스케쥴링 방식을 구현하기 위해 많이 사용된다."
   ]
  },
  {
   "cell_type": "code",
   "execution_count": 24,
   "id": "a6fd6403",
   "metadata": {},
   "outputs": [],
   "source": [
    "# 연습 : 리스트 변수로 큐를 다루는 enqueue, dequeue 기능 구현해보기."
   ]
  },
  {
   "cell_type": "code",
   "execution_count": null,
   "id": "c3cc0c3c",
   "metadata": {},
   "outputs": [],
   "source": [
    "queue_list = list()\n",
    "\n",
    "def enqueue(data):\n",
    "    queue_list.append(data)\n",
    "\n",
    "def dequeue():\n",
    "    data = queue_list[0]\n",
    "    del queue_list[0]\n",
    "    return data"
   ]
  }
 ],
 "metadata": {
  "kernelspec": {
   "display_name": "Python 3",
   "language": "python",
   "name": "python3"
  },
  "language_info": {
   "codemirror_mode": {
    "name": "ipython",
    "version": 3
   },
   "file_extension": ".py",
   "mimetype": "text/x-python",
   "name": "python",
   "nbconvert_exporter": "python",
   "pygments_lexer": "ipython3",
   "version": "3.8.8"
  }
 },
 "nbformat": 4,
 "nbformat_minor": 5
}
