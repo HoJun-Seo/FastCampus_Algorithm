{
 "cells": [
  {
   "cell_type": "code",
   "execution_count": 2,
   "id": "3874f236",
   "metadata": {},
   "outputs": [
    {
     "data": {
      "text/plain": [
       "[0, 1, 2, 3, 4, 5, 6, 7, 8, 9]"
      ]
     },
     "execution_count": 2,
     "metadata": {},
     "output_type": "execute_result"
    }
   ],
   "source": [
    "# 해쉬 테이블 만들기 - 리스트를 통해 간단하게 만들어보자.\n",
    "# list comprehension : 파이썬에서 제공해주는 문법으로, 리스트 내부에서 반복문을 수행시킨 후, \n",
    "# 각 반복의 결과값을 리스트에 삽입해준다.\n",
    "hash_table = list([i for i in range(10)]) \n",
    "hash_table"
   ]
  },
  {
   "cell_type": "code",
   "execution_count": 3,
   "id": "6ee7a606",
   "metadata": {},
   "outputs": [],
   "source": [
    "# 초간단 해쉬함수 만들기 - 가장 간단한 방식이 Division 법이다.(나누기를 통한 나머지 값을 사용하는 기법)\n",
    "def hash_func(key):\n",
    "    return key % 5 # 나머지 값을 해쉬 주소로 반환해준다."
   ]
  },
  {
   "cell_type": "code",
   "execution_count": 5,
   "id": "1936a202",
   "metadata": {},
   "outputs": [
    {
     "name": "stdout",
     "output_type": "stream",
     "text": [
      "65 68 84\n",
      "0\n"
     ]
    }
   ],
   "source": [
    "# 해쉬 테이블에 데이터 저장\n",
    "data1 = 'Andy'\n",
    "data2 = 'Dave'\n",
    "data3 = 'Trump'\n",
    "# 각각의 데이터에 매칭되는 키 값이 존재해야 한다.\n",
    "# 각 문자열의 첫번째 글자를 가져와서 그에 해당하는 아스키 코드값을 해쉬 테이블에서의 키 값으로 정한다. \n",
    "# ord() : 문자의 ASCII 코드 값을 리턴해주는 메소드\n",
    "print(ord(data1[0]), ord(data2[0]), ord(data3[0]))\n",
    "print(hash_func(ord(data1[0]))) # 데이터의 키 값을 해쉬 함수의 입력으로 활용하여 해쉬 주소를 얻어온다."
   ]
  },
  {
   "cell_type": "code",
   "execution_count": 6,
   "id": "02db9b51",
   "metadata": {},
   "outputs": [],
   "source": [
    "# 데이터를 해쉬 테이블에 저장하는 메소드 구현\n",
    "def storage_data(data, value):\n",
    "    key = ord(data[0]) # 키 값 추출\n",
    "    hash_address = hash_func(key) # 키 값을 통해 해쉬 주소 추출\n",
    "    hash_table[hash_address] = value # 해쉬 주소를 인덱스로 활용하여 리스트에 value 값 저장"
   ]
  },
  {
   "cell_type": "code",
   "execution_count": 7,
   "id": "2edd70ef",
   "metadata": {},
   "outputs": [],
   "source": [
    "storage_data('Andy', '01055553333')\n",
    "storage_data('Dave', '01044443333')\n",
    "storage_data('Trump','01022223333')"
   ]
  },
  {
   "cell_type": "code",
   "execution_count": 8,
   "id": "8fac37c3",
   "metadata": {},
   "outputs": [],
   "source": [
    "# 데이터 호출 함수 구현\n",
    "def get_data(data):\n",
    "    key = ord(data[0])\n",
    "    hash_address = hash_func(key)\n",
    "    return hash_table[hash_address]"
   ]
  },
  {
   "cell_type": "code",
   "execution_count": 9,
   "id": "e453d097",
   "metadata": {},
   "outputs": [
    {
     "name": "stdout",
     "output_type": "stream",
     "text": [
      "01055553333\n"
     ]
    }
   ],
   "source": [
    "print(get_data('Andy'))"
   ]
  },
  {
   "cell_type": "markdown",
   "id": "0de19662",
   "metadata": {},
   "source": [
    "# 중요! 해쉬 테이블 내부에서 동일한 주소에 대한 처리\n",
    "- 해쉬 테이블 내부에서 같은 주소에 데이터들이 중복으로 저장될 경우의 충돌을 해결하기 위해 추가적인 자료구조가 필요하다.(이걸 어떻게 해결하는지가 가장 궁금하다.)\n",
    "- 보통은 해쉬 테이블의 저장공간을 크게 늘려서 최대한 해쉬 주소에 대한 중복을 피할 수 있게끔 한다고 한다.\n",
    "- 그런데 나는 또 다른 자료구조가 쓰이는 상황이 더 궁금하다.\n",
    "\n",
    "## 해쉬 테이블의 장단점과 주요 용도\n",
    "- 장점\n",
    "    - 데이터 저장/읽기 속도가 빠르다.(검색 속도가 빠르다.)\n",
    "    - 해쉬는 키에 대한 데이터가 있는지(중복) 확인이 쉽다.\n",
    "- 단점\n",
    "    - 일반적으로 저장공간이 좀 더 많이 필요하다.\n",
    "    - 여러 키에 해당하는 주소가 동일할 경우 충돌을 해결하기 위한 별도 자료구조가 필요하다.\n",
    "- 주요 용도\n",
    "    - 검색이 많이 필요한 경우\n",
    "    - 저장, 삭제, 읽기가 빈번한 경우\n",
    "    - 캐쉬 구현시(중복 확인이 쉽기 때문) - 웹 구현 시 사용되는 캐시의 경우 화면에 뿌려지는 고정된 이미지와 같은 것들을 출력해 줄 때, 요청할 때마다 매번 다시 이미지들을 모두 가져오는 것이 아니라 이미 한번 불러와서 이미지들을 저장해둔 상태로 새로고침과 같은 요청이 왔을시, 데이터가 변경되는 부분을 제외한 것들은 다시 불러오는것이 아닌 미리 저장해둔 것들을 뿌려주는 것으로 웹 화면 출력 시간을 빠르게 해 줄 수 있는 기능을 제공해준다.(데이터에 대한 중복확인)"
   ]
  },
  {
   "cell_type": "code",
   "execution_count": 11,
   "id": "6e518973",
   "metadata": {},
   "outputs": [],
   "source": [
    "# 리스트 변수를 활용해서 해쉬 테이블 구현해보기.\n",
    "# 해쉬 함수 : key % 8\n",
    "# 해쉬 키 생성 (hash(data)) - hash 함수는 파이썬에서 자체 제공해주는 메소드이다.\n",
    "# hash 함수는 실제로는 잘 쓰이지 않는다, 주피터 노트북을 새로 켜고 다시 실행 시킬 때마다 출력되는 값이 달라질 수 있기 때문\n",
    "\n",
    "hash_table = list([0 for i in range(8)])\n",
    "def get_key(data):\n",
    "    return hash(data)\n",
    "\n",
    "def hash_function(key):\n",
    "    return key % 8\n",
    "\n",
    "def save_data(data, value):\n",
    "    hash_address = hash_function(get_key(data))\n",
    "    hash_table[hash_address] = value\n",
    "    \n",
    "def read_data(data):\n",
    "    hash_address = hash_function(get_key(data))\n",
    "    return hash_table[hash_address]"
   ]
  },
  {
   "cell_type": "code",
   "execution_count": 12,
   "id": "c1b0a07e",
   "metadata": {},
   "outputs": [
    {
     "data": {
      "text/plain": [
       "'0102030200'"
      ]
     },
     "execution_count": 12,
     "metadata": {},
     "output_type": "execute_result"
    }
   ],
   "source": [
    "save_data('Dave', '0102030200')\n",
    "save_data('Andy', '01033232200')\n",
    "read_data('Dave')"
   ]
  },
  {
   "cell_type": "code",
   "execution_count": 13,
   "id": "3a0274c4",
   "metadata": {},
   "outputs": [
    {
     "data": {
      "text/plain": [
       "[0, '0102030200', 0, 0, 0, 0, 0, '01033232200']"
      ]
     },
     "execution_count": 13,
     "metadata": {},
     "output_type": "execute_result"
    }
   ],
   "source": [
    "hash_table"
   ]
  },
  {
   "cell_type": "code",
   "execution_count": null,
   "id": "ecffc7b3",
   "metadata": {},
   "outputs": [],
   "source": []
  }
 ],
 "metadata": {
  "kernelspec": {
   "display_name": "Python 3",
   "language": "python",
   "name": "python3"
  },
  "language_info": {
   "codemirror_mode": {
    "name": "ipython",
    "version": 3
   },
   "file_extension": ".py",
   "mimetype": "text/x-python",
   "name": "python",
   "nbconvert_exporter": "python",
   "pygments_lexer": "ipython3",
   "version": "3.8.8"
  }
 },
 "nbformat": 4,
 "nbformat_minor": 5
}
