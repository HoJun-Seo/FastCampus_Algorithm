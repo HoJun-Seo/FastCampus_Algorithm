{
 "cells": [
  {
   "cell_type": "code",
   "execution_count": 2,
   "id": "3874f236",
   "metadata": {},
   "outputs": [
    {
     "data": {
      "text/plain": [
       "[0, 1, 2, 3, 4, 5, 6, 7, 8, 9]"
      ]
     },
     "execution_count": 2,
     "metadata": {},
     "output_type": "execute_result"
    }
   ],
   "source": [
    "# 해쉬 테이블 만들기 - 리스트를 통해 간단하게 만들어보자.\n",
    "# list comprehension : 파이썬에서 제공해주는 문법으로, 리스트 내부에서 반복문을 수행시킨 후, \n",
    "# 각 반복의 결과값을 리스트에 삽입해준다.\n",
    "hash_table = list([i for i in range(10)]) \n",
    "hash_table"
   ]
  },
  {
   "cell_type": "code",
   "execution_count": 3,
   "id": "6ee7a606",
   "metadata": {},
   "outputs": [],
   "source": [
    "# 초간단 해쉬함수 만들기 - 가장 간단한 방식이 Division 법이다.(나누기를 통한 나머지 값을 사용하는 기법)\n",
    "def hash_func(key):\n",
    "    return key % 5 # 나머지 값을 해쉬 주소로 반환해준다."
   ]
  },
  {
   "cell_type": "code",
   "execution_count": 5,
   "id": "1936a202",
   "metadata": {},
   "outputs": [
    {
     "name": "stdout",
     "output_type": "stream",
     "text": [
      "65 68 84\n",
      "0\n"
     ]
    }
   ],
   "source": [
    "# 해쉬 테이블에 데이터 저장\n",
    "data1 = 'Andy'\n",
    "data2 = 'Dave'\n",
    "data3 = 'Trump'\n",
    "# 각각의 데이터에 매칭되는 키 값이 존재해야 한다.\n",
    "# 각 문자열의 첫번째 글자를 가져와서 그에 해당하는 아스키 코드값을 해쉬 테이블에서의 키 값으로 정한다. \n",
    "# ord() : 문자의 ASCII 코드 값을 리턴해주는 메소드\n",
    "print(ord(data1[0]), ord(data2[0]), ord(data3[0]))\n",
    "print(hash_func(ord(data1[0]))) # 데이터의 키 값을 해쉬 함수의 입력으로 활용하여 해쉬 주소를 얻어온다."
   ]
  },
  {
   "cell_type": "code",
   "execution_count": 6,
   "id": "02db9b51",
   "metadata": {},
   "outputs": [],
   "source": [
    "# 데이터를 해쉬 테이블에 저장하는 메소드 구현\n",
    "def storage_data(data, value):\n",
    "    key = ord(data[0]) # 키 값 추출\n",
    "    hash_address = hash_func(key) # 키 값을 통해 해쉬 주소 추출\n",
    "    hash_table[hash_address] = value # 해쉬 주소를 인덱스로 활용하여 리스트에 value 값 저장"
   ]
  },
  {
   "cell_type": "code",
   "execution_count": 7,
   "id": "2edd70ef",
   "metadata": {},
   "outputs": [],
   "source": [
    "storage_data('Andy', '01055553333')\n",
    "storage_data('Dave', '01044443333')\n",
    "storage_data('Trump','01022223333')"
   ]
  },
  {
   "cell_type": "code",
   "execution_count": 8,
   "id": "8fac37c3",
   "metadata": {},
   "outputs": [],
   "source": [
    "# 데이터 호출 함수 구현\n",
    "def get_data(data):\n",
    "    key = ord(data[0])\n",
    "    hash_address = hash_func(key)\n",
    "    return hash_table[hash_address]"
   ]
  },
  {
   "cell_type": "code",
   "execution_count": 9,
   "id": "e453d097",
   "metadata": {},
   "outputs": [
    {
     "name": "stdout",
     "output_type": "stream",
     "text": [
      "01055553333\n"
     ]
    }
   ],
   "source": [
    "print(get_data('Andy'))"
   ]
  },
  {
   "cell_type": "markdown",
   "id": "0de19662",
   "metadata": {},
   "source": [
    "# 중요! 해쉬 테이블 내부에서 동일한 주소에 대한 처리\n",
    "- 해쉬 테이블 내부에서 같은 주소에 데이터들이 중복으로 저장될 경우의 충돌을 해결하기 위해 추가적인 자료구조가 필요하다.(이걸 어떻게 해결하는지가 가장 궁금하다.)\n",
    "- 보통은 해쉬 테이블의 저장공간을 크게 늘려서 최대한 해쉬 주소에 대한 중복을 피할 수 있게끔 한다고 한다.\n",
    "- 그런데 나는 또 다른 자료구조가 쓰이는 상황이 더 궁금하다.\n",
    "\n",
    "## 해쉬 테이블의 장단점과 주요 용도\n",
    "- 장점\n",
    "    - 데이터 저장/읽기 속도가 빠르다.(검색 속도가 빠르다.)\n",
    "    - 해쉬는 키에 대한 데이터가 있는지(중복) 확인이 쉽다.\n",
    "- 단점\n",
    "    - 일반적으로 저장공간이 좀 더 많이 필요하다.\n",
    "    - 여러 키에 해당하는 주소가 동일할 경우 충돌을 해결하기 위한 별도 자료구조가 필요하다.\n",
    "- 주요 용도\n",
    "    - 검색이 많이 필요한 경우\n",
    "    - 저장, 삭제, 읽기가 빈번한 경우\n",
    "    - 캐쉬 구현시(중복 확인이 쉽기 때문) - 웹 구현 시 사용되는 캐시의 경우 화면에 뿌려지는 고정된 이미지와 같은 것들을 출력해 줄 때, 요청할 때마다 매번 다시 이미지들을 모두 가져오는 것이 아니라 이미 한번 불러와서 이미지들을 저장해둔 상태로 새로고침과 같은 요청이 왔을시, 데이터가 변경되는 부분을 제외한 것들은 다시 불러오는것이 아닌 미리 저장해둔 것들을 뿌려주는 것으로 웹 화면 출력 시간을 빠르게 해 줄 수 있는 기능을 제공해준다.(데이터에 대한 중복확인)"
   ]
  },
  {
   "cell_type": "code",
   "execution_count": 11,
   "id": "6e518973",
   "metadata": {},
   "outputs": [],
   "source": [
    "# 리스트 변수를 활용해서 해쉬 테이블 구현해보기.\n",
    "# 해쉬 함수 : key % 8\n",
    "# 해쉬 키 생성 (hash(data)) - hash 함수는 파이썬에서 자체 제공해주는 메소드이다.\n",
    "# hash 함수는 실제로는 잘 쓰이지 않는다, 주피터 노트북을 새로 켜고 다시 실행 시킬 때마다 출력되는 값이 달라질 수 있기 때문\n",
    "\n",
    "hash_table = list([0 for i in range(8)])\n",
    "def get_key(data):\n",
    "    return hash(data)\n",
    "\n",
    "def hash_function(key):\n",
    "    return key % 8\n",
    "\n",
    "def save_data(data, value):\n",
    "    hash_address = hash_function(get_key(data))\n",
    "    hash_table[hash_address] = value\n",
    "    \n",
    "def read_data(data):\n",
    "    hash_address = hash_function(get_key(data))\n",
    "    return hash_table[hash_address]"
   ]
  },
  {
   "cell_type": "code",
   "execution_count": 12,
   "id": "c1b0a07e",
   "metadata": {},
   "outputs": [
    {
     "data": {
      "text/plain": [
       "'0102030200'"
      ]
     },
     "execution_count": 12,
     "metadata": {},
     "output_type": "execute_result"
    }
   ],
   "source": [
    "save_data('Dave', '0102030200')\n",
    "save_data('Andy', '01033232200')\n",
    "read_data('Dave')"
   ]
  },
  {
   "cell_type": "code",
   "execution_count": 13,
   "id": "3a0274c4",
   "metadata": {},
   "outputs": [
    {
     "data": {
      "text/plain": [
       "[0, '0102030200', 0, 0, 0, 0, 0, '01033232200']"
      ]
     },
     "execution_count": 13,
     "metadata": {},
     "output_type": "execute_result"
    }
   ],
   "source": [
    "hash_table"
   ]
  },
  {
   "cell_type": "markdown",
   "id": "c6fcf445",
   "metadata": {},
   "source": [
    "### 충돌(Collision) 해결 알고리즘(좋은 해쉬 함수 사용하기)\n",
    "- 해쉬 테이블의 가장 큰 문제는 충돌(Collision) 의 경우이다. 이 문제를 충돌(Collision) 또는 해쉬 충돌(Hash Collision) 이라고 한다.\n",
    "- 충돌 해결을 위한 2가지 전략\n",
    "    - Chanining 기법(Open Hashing 기법 중 하나 - 충돌한 데이터의 경우 해쉬 테이블 밖에 추가적인 공간을 할당하여 저장하는 방식)\n",
    "        - 충돌이 일어나면 연결 리스트를 이용해서 데이터를 추가로 뒤에 연결시켜 저장하는 방법\n",
    "    - Linear Probing 기법(Closing Hashing 기법 중 하나 - 해쉬 테이블 내부에서 빈 공간을 찾아 데이터를 저장해주는 방식)\n",
    "        - 충돌이 일어나면 해당 hash address 의 다음 address 부터 맨 처음 나오는 빈 공간에 저장하는 방법\n",
    "        - 저장공간의 활용도를 높이기 위한 방법"
   ]
  },
  {
   "cell_type": "code",
   "execution_count": 46,
   "id": "61e6799b",
   "metadata": {},
   "outputs": [],
   "source": [
    "# 1. Chaining 기법을 활용하여 충돌 문제를 해결해보자.\n",
    "hash_table = list([0 for i in range(8)])\n",
    "def get_key(data):\n",
    "    return hash(data)\n",
    "\n",
    "def hash_function(key):\n",
    "    return key % 8\n",
    "\n",
    "def save_data(data, value):\n",
    "    index_key = get_key(data)\n",
    "    hash_address = hash_function(index_key)\n",
    "    if hash_table[hash_address] != 0: # 추출된 해쉬 주소에 선행 데이터가 이미 들어가 있는 경우\n",
    "        for index in range(len(hash_table[hash_address])):\n",
    "            if hash_table[hash_address][index][0] == index_key:\n",
    "                hash_table[hash_address][index][1] = value\n",
    "                return\n",
    "        hash_table[hash_address].append([index_key, value]) \n",
    "        # index_key 가 이미 존재하지 않는다면 연결 리스트 끝에 새로운 리스트로 추가\n",
    "        # 해쉬 테이블의 value 값으로 저장되는 데이터 하나하나가 리스트\n",
    "        # 각 요소가 리스트로 구성된 연결 리스트를 만들어 주는것 같다.\n",
    "    else:\n",
    "        hash_table[hash_address] = [[index_key, value]]\n",
    "    \n",
    "def read_data(data):\n",
    "    index_key = get_key(data)\n",
    "    hash_address = hash_function(index_key)\n",
    "    if hash_table[hash_address] != 0:\n",
    "        for index in range(len(hash_table[hash_address])):\n",
    "            if hash_table[hash_address][index][0] == index_key:\n",
    "                return hash_table[hash_address][index][1]\n",
    "        return None\n",
    "    else:\n",
    "        return None"
   ]
  },
  {
   "cell_type": "code",
   "execution_count": 47,
   "id": "985f0f1c",
   "metadata": {},
   "outputs": [
    {
     "name": "stdout",
     "output_type": "stream",
     "text": [
      "Dave : -8838482505318283807\n",
      "Data : 5632512063662014857\n",
      "두 데이터의 키 값이 동일하지 않습니다.\n",
      "Dave : 1\n",
      "Dd : 7\n",
      "Data : 1\n",
      "두 데이터의 해쉬 주소 값이 동일합니다.\n"
     ]
    }
   ],
   "source": [
    "# 테스트를 위해 hash() % 8 연산 결과가 똑같은 값을 찾는다.\n",
    "# key 값이 다르지만 해쉬 주소가 똑같은 값이 추출되는 경우\n",
    "print(\"Dave : \" + str(hash('Dave')))\n",
    "print(\"Data : \" + str(hash('Data')))\n",
    "if hash('Dave') == hash('Data'):\n",
    "    print(\"두 데이터의 키 값이 동일합니다.\")\n",
    "else:\n",
    "    print(\"두 데이터의 키 값이 동일하지 않습니다.\")\n",
    "print(\"Dave : \" + str(hash('Dave') % 8))\n",
    "print(\"Dd : \" + str(hash('Dd') % 8))\n",
    "print(\"Data : \" + str(hash('Data') % 8))\n",
    "\n",
    "if(hash('Dave') % 8 == hash('Data') % 8):\n",
    "    print(\"두 데이터의 해쉬 주소 값이 동일합니다.\")\n",
    "else:\n",
    "    print(\"두 데이터의 해쉬 주소 값이 동일하지 않습니다.\")"
   ]
  },
  {
   "cell_type": "code",
   "execution_count": 48,
   "id": "880c9b36",
   "metadata": {},
   "outputs": [
    {
     "data": {
      "text/plain": [
       "'01011112222'"
      ]
     },
     "execution_count": 48,
     "metadata": {},
     "output_type": "execute_result"
    }
   ],
   "source": [
    "save_data('Dave', '01033332222')\n",
    "save_data('Data', '01011112222')\n",
    "read_data('Data')"
   ]
  },
  {
   "cell_type": "code",
   "execution_count": 49,
   "id": "27978785",
   "metadata": {},
   "outputs": [
    {
     "name": "stdout",
     "output_type": "stream",
     "text": [
      "[5632512063662014857, '01011112222']\n"
     ]
    }
   ],
   "source": [
    "print(hash_table[1][1])"
   ]
  },
  {
   "cell_type": "code",
   "execution_count": 74,
   "id": "3d466d54",
   "metadata": {},
   "outputs": [],
   "source": [
    "# 2. Linear Probing 기법을 활용해 문제를 해결해보자.\n",
    "hash_table = list([0 for i in range(8)])\n",
    "def get_key(data):\n",
    "    return hash(data)\n",
    "\n",
    "def hash_function(key):\n",
    "    return key % 8\n",
    "\n",
    "def save_data(data, value):\n",
    "    index_key = get_key(data)\n",
    "    hash_address = hash_function(index_key)\n",
    "    if hash_table[hash_address] != 0: # 추출된 해쉬 주소에 선행 데이터가 이미 들어가 있는 경우\n",
    "        for index in range(hash_address, len(hash_table)): \n",
    "            # 충돌한 주소 위치 부터 시작하여 순서대로 비어 있는 주소값이 있는지 찾는다.\n",
    "            if hash_table[index] == 0: # 비어있는 주소를 찾았을 경우 데이터 저장\n",
    "                hash_table[index] = [index_key, value]\n",
    "                return\n",
    "            elif hash_table[index][0] == index_key:\n",
    "                # 해당 주소에 동알한 키 값을 가진 리스트가 존재한다면 value 값 덮어쓰기\n",
    "                hash_table[index][1] = value\n",
    "                return\n",
    "    else:\n",
    "        hash_table[hash_address] = [index_key, value]\n",
    "    \n",
    "def read_data(data):\n",
    "    index_key = get_key(data)\n",
    "    hash_address = hash_function(index_key)\n",
    "    if hash_table[hash_address] != 0:\n",
    "        for index in range(hash_address, len(hash_table)):\n",
    "            if hash_table[index] == 0: \n",
    "                # 충돌이 일어난 주소를 기준으로 순차 탐색도중 중간에 비어있는 공간이 발견될 경우\n",
    "                # 찾고자 하는 데이터가 존재하지 않는다는 뜻\n",
    "                return None\n",
    "            elif hash_table[index][0] == index_key: # 값을 발견했을 경우\n",
    "                return hash_table[index][1]\n",
    "    else:\n",
    "        return None # 값이 존재하지 않음"
   ]
  },
  {
   "cell_type": "code",
   "execution_count": 75,
   "id": "6726c03e",
   "metadata": {},
   "outputs": [
    {
     "name": "stdout",
     "output_type": "stream",
     "text": [
      "0\n",
      "0\n",
      "4239173438244554752\n",
      "4293335798156137016\n"
     ]
    }
   ],
   "source": [
    "print(hash('dk') % 8)\n",
    "print(hash('dm') % 8)\n",
    "print(hash('dk'))\n",
    "print(hash('dm'))"
   ]
  },
  {
   "cell_type": "code",
   "execution_count": 76,
   "id": "8adbf919",
   "metadata": {},
   "outputs": [
    {
     "data": {
      "text/plain": [
       "'01022223333'"
      ]
     },
     "execution_count": 76,
     "metadata": {},
     "output_type": "execute_result"
    }
   ],
   "source": [
    "save_data('dk', '01022223333')\n",
    "save_data('dm', '01033334444')\n",
    "read_data('dk')"
   ]
  },
  {
   "cell_type": "markdown",
   "id": "260acc61",
   "metadata": {},
   "source": [
    "### 빈번한 충돌을 개선하는 기법\n",
    "- 해쉬 함수를 재정의 및 해쉬 테이블 저장공간을 확대.\n",
    "\n",
    "- 참고\n",
    "    - 파이썬의 hash() 함수는 실행할 때마다 값이 달라질 수 있다.\n",
    "    - 유명한 해쉬 함수들 : SHA(Secure Hash Algorithm, 안전한 해쉬 알고리즘)\n",
    "        - 어떤 데이터도 유일하게 고정된 크기의 고정값을 리턴해주므로 해쉬 함수로 유용하게 활용이 가능하다."
   ]
  },
  {
   "cell_type": "code",
   "execution_count": 80,
   "id": "ab30deba",
   "metadata": {},
   "outputs": [
    {
     "name": "stdout",
     "output_type": "stream",
     "text": [
      "a94a8fe5ccb19ba61c4c0873d391e987982fbbd3\n"
     ]
    }
   ],
   "source": [
    "# SHA-1\n",
    "import hashlib\n",
    "\n",
    "data = 'test'.encode()\n",
    "hash_object = hashlib.sha1()\n",
    "hash_object.update(data) # 바이트로 바꿔준다\n",
    "hex_dig = hash_object.hexdigest() # 16진수로 추출\n",
    "# 추출된 16진수 값은 항상 고정되어 있다.\n",
    "print(hex_dig)\n"
   ]
  },
  {
   "cell_type": "code",
   "execution_count": 81,
   "id": "142cf7a3",
   "metadata": {},
   "outputs": [
    {
     "name": "stdout",
     "output_type": "stream",
     "text": [
      "9f86d081884c7d659a2feaa0c55ad015a3bf4f1b2b0b822cd15d6c15b0f00a08\n"
     ]
    }
   ],
   "source": [
    "# SHA - 256\n",
    "import hashlib\n",
    "\n",
    "data = 'test'.encode()\n",
    "hash_object = hashlib.sha256()\n",
    "hash_object.update(data) # 바이트로 바꿔준다\n",
    "hex_dig = hash_object.hexdigest() # 16진수로 추출\n",
    "# 추출된 16진수 값은 항상 고정되어 있다.\n",
    "print(hex_dig)"
   ]
  },
  {
   "cell_type": "code",
   "execution_count": null,
   "id": "c08b5526",
   "metadata": {},
   "outputs": [],
   "source": []
  }
 ],
 "metadata": {
  "kernelspec": {
   "display_name": "Python 3",
   "language": "python",
   "name": "python3"
  },
  "language_info": {
   "codemirror_mode": {
    "name": "ipython",
    "version": 3
   },
   "file_extension": ".py",
   "mimetype": "text/x-python",
   "name": "python",
   "nbconvert_exporter": "python",
   "pygments_lexer": "ipython3",
   "version": "3.8.8"
  }
 },
 "nbformat": 4,
 "nbformat_minor": 5
}
