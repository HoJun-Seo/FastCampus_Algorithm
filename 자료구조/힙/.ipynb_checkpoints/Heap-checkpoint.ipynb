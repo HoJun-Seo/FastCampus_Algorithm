{
 "cells": [
  {
   "cell_type": "markdown",
   "id": "41098acb",
   "metadata": {},
   "source": [
    "## 힙(Heap)이란?\n",
    "- 힙 : 데이터에서 최대값과 최소값을 빠르게 찾기 위해 고안된 완전 이진 트리(Complete Binart Tree)\n",
    "- 완전 이진 트리 : 노드를 삽입할 때 최하단 왼쪽 노드부터 차례대로 삽입하는 트리\n",
    "\n",
    "#### 힙을 사용하는 이유\n",
    "- 배열에 데이터를 넣고, 최대값과 최소값을 찾으려면 O(n) 이 걸림\n",
    "- 이에 반해, 힙에 데이터를 넣고, 최대값과 최소값을 찾으면, O(log n) 이 걸림\n",
    "- 우선순위 큐와 같이 최대값 또는 최소값을 빠르게 찾아야 하는 자료구조 및 알고리즘 구현에 활용됨\n",
    "\n",
    "### 힙(Heap) 구조\n",
    "- 힙은 최대값을 구하기 위한 구조(최대 힙 - Max Heap) 와, 최소값을 구하기 위한 구조(최소 힙 - Min Heap) 로 분류할 수 있다.\n",
    "- 힙은 다음과 같은 두 가지 조건을 가지고 있는 자료구조이다.\n",
    "    1. 각 노드의 값은 해당 노드의 자식 노드가 가진 값보다 크거나 같다.(최대 힙의 경우)\n",
    "        - 최소 힙의 경우 각 노드의 값은 해당 노드의 자식 노드가 가진 값보다 작거나 같음\n",
    "    2. 완전 이진 트리 형태를 가짐\n",
    "    \n",
    "#### 힙과 이진 탐색 트리의 공통점과 차이점\n",
    "- 공통점:\n",
    "    - 힙과 이진 탐색 트리는 모두 이진 트리이다.\n",
    "- 차이점:\n",
    "    - 힙은 각 노드의 값이 자식 노드보다 크거나 같다.(최대 힙의 경우)\n",
    "    - 이진 탐색 트리는 왼쪽 자식 노드의 값이 가장 작고, 그 다음 부모 노드, 그 다음 오른쪽 자식 노드 값이 가장 크다.(힙과는 달리 오른쪽 자식 노드가 부모 노드보다 크거나 같다.)\n",
    "    - 힙은 이진 탐색 트리의 조건인 자식 노드에서 작은 값은 왼쪽, 큰 값은 오른쪽 이라는 조건이 없다.\n",
    "        - 힙의 왼쪽 및 오른쪽 자식 노드의 값은 오른쪽이 클 수도 있고, 왼쪽이 클 수도 있다.(어쨌든 부모 노드 보다는 작거나 같다 - 최대 힙의 경우)\n",
    "- 이진 탐색 트리는 탐색을 위한 구조, 힙은 최대/최소값 검색을 위한 구조 중 하나로 이해하면 된다.\n",
    "    \n",
    "#### 힙에 데이터 삽입하기\n",
    "- 힙은 완전 이진 트리이므로, 삽입할 노드는 기본적으로 왼쪽 최하단부 노드부터 채워지는 형태로 삽입된다. \n",
    "    - 완전 이진 트리 : 최하단 왼쪽 노드부터 시작하여 트리에서 해당 Level 에 노드들이 다 채워지고 나면 그 다음 Level 로 이동해서 가장 왼쪽 부터 다시 데이터를 삽입하는 구조\n",
    "#### 힙에 데이터 삽입하기 - 삽입할 데이터가 힙의 데이터 보다 클 경우(최대 힙)\n",
    "- 먼저 삽입된 데이터는 완전 이진 트리 구조에 맞춰, 최하단부 왼쪽 노드부터 채워진다.\n",
    "- 채워진 노드 위치에서 부모 노드보다 값이 클 경우, 부모 노드와 위치를 바꿔주는 작업을 반복해준다.\n",
    "- 부모 노드와 위치를 바꿔주는 작업을 반복 하다가 만약 삽입된 데이터가 트리에서 최대값에 해당 할 경우 결국 결과적으로 해당 노드는 트리의 루트 노드가 되게 된다.\n",
    "\n",
    "#### 힙의 데이터 삭제하기(최대 힙의 경우)\n",
    "- 보통 삭제는 최상단 노드(Root Node) 를 삭제하는 것이 일반적이다.\n",
    "    - 힙의 용도는 최대값 또는 최소값을 Root Node 에 놓고, 최대값과 최소값을 바로 꺼내 쓸 수 있도록 하는 것이다.\n",
    "    - 힙에서 최대값이나 최소값이 아닌 다른 노드를 삭제하는 경우는 거의 없다고 봐도 무방하다. \n",
    "- 상단의 데이터 삭제 시, 일반적으로 가장 마지막에 추가한 노드를 Root 로 이동시킨다.\n",
    "- Root Node 의 값이 Child Node 보다 작을 경우 Root Node 의 Child Node 중 가장 큰 값을 가진 노드와 Root Node 의 위치를 바꿔주는 작업을 반복한다.\n",
    "\n",
    "#### 힙의 구현\n",
    "##### 힙과 배열\n",
    "- 일반적으로 힙 구현 시 배열 자료구조를 활용할 수 있다.\n",
    "- 배열이 가능한 이유는 힙이 완전 이진 트리의 구조를 띄기 때문이다.\n",
    "- 배열은 인덱스가 0번 부터 시작하지만, 힙 구현의 편의를 위해 Root Node 인덱스 번호를 1로 지정하면 구현이 좀 더 수월해진다.\n",
    "    - 부모 노드 인덱스 번호(Parent node's index) = 자식 노드 인덱스 번호(Child node's index) // 2(파이썬의 경우 정수 형태의 몫을 구하기 위해 나눗셈을 할 때 // 기호를 사용한다.(/ 하나만 사용하면 숫자에 따라 실수 형태의 몫이 나오게된다.))\n",
    "    - 왼쪽 자식 노드 인덱스 번호(Left Child node's index) = 부모 노드 인덱스 번호(Parent node's index) * 2\n",
    "    - 오른쪽 자식 노드 인덱스 번호(Right Child node's index) = 부모 노드 인덱스 번호(Parent node's index) * 2 + 1\n",
    "    - 위와 같이 인덱스 번호를 통해 각 인덱스에 어떤 노드가 있는지 구분할 수 있다."
   ]
  },
  {
   "cell_type": "code",
   "execution_count": 3,
   "id": "b6ff2447",
   "metadata": {},
   "outputs": [],
   "source": [
    "class Heap:\n",
    "    def __init__(self, data):\n",
    "        self.heap_array = list() # 파이썬에서 배열은 리스트 형태로 다룰 수 있다.\n",
    "        self.heap_array.append(None) # 힙의 루트 노드의 인덱스를 1로 저장하기 위해 0번 인덱스에 None 값을 준다.\n",
    "        self.heap_array.append(data)"
   ]
  },
  {
   "cell_type": "code",
   "execution_count": 4,
   "id": "f6ca17d1",
   "metadata": {},
   "outputs": [
    {
     "data": {
      "text/plain": [
       "[None, 1]"
      ]
     },
     "execution_count": 4,
     "metadata": {},
     "output_type": "execute_result"
    }
   ],
   "source": [
    "heap = Heap(1)\n",
    "heap.heap_array"
   ]
  },
  {
   "cell_type": "code",
   "execution_count": 5,
   "id": "d8eb51f9",
   "metadata": {},
   "outputs": [],
   "source": [
    "class Heap:\n",
    "    def __init__(self, data):\n",
    "        self.heap_array = list() # 파이썬에서 배열은 리스트 형태로 다룰 수 있다.\n",
    "        self.heap_array.append(None) # 힙의 루트 노드의 인덱스를 1로 저장하기 위해 0번 인덱스에 None 값을 준다.\n",
    "        self.heap_array.append(data)\n",
    "    \n",
    "    # 삽입된 데이터가 부모 노드보다 큰지 작은지에 대한 검증 결과를 반환해주는 메소드를 작성해준다.\n",
    "    def move_up(self, inserted_idx):\n",
    "        # 삽입된 데이터가 루트 노드까지 올라갔을 경우 더 이상 데이터 비교 및 위치 스왑 작업을 해줄 필요가 없다.\n",
    "        if inserted_idx <= 1: \n",
    "            return False\n",
    "        \n",
    "        parent_idx = inserted_idx // 2\n",
    "        if self.heap_array[inserted_idx] > self.heap_array[parent_idx]:\n",
    "            return True\n",
    "        else:\n",
    "            return False\n",
    "    \n",
    "    def insert(self, data):\n",
    "        # 방어 코드 - 힙 배열에 아무 데이터도 들어가 있지 않은 상태에서 메소드가 수행되는 경우를 대비하여 \n",
    "        # 배열에 데이터 값을 적재해주는 코드를 작성해준다.\n",
    "        if len(self.heap_array) == 0:\n",
    "            self.heap_array.append(None)\n",
    "            self.heap_array.append(data)\n",
    "            return True\n",
    "        \n",
    "        self.heap_array.append(data) # append 라는 배열 자체가 리스트의 가장 마지막 부분에 데이터를 추가해주는 것이기 때문에 \n",
    "        # 힙 트리의 마지막 요소에 데이터를 추가해 주기 위해 굳이 로직을 작성할 필요가 없다.\n",
    "        # 연결 리스트로 트리를 만들고 있는 것이 아니라 배열로 만들고 있기 때문에 얻을 수 있는 장점이다.\n",
    "        # 자바의 경우 ArrayList 를 이용해 볼 수 있을 것이다.\n",
    "        \n",
    "        # 삽입한 데이터가 부모 노드보다 값이 클 경우의 로직을 작성해준다.\n",
    "        inserted_idx = len(self.heap_array) - 1 # 마지막으로 삽입된 데이터의 인덱스를 알아낸다.\n",
    "        while self.move_up(inserted_idx):\n",
    "            # 메소드의 실행 결과 true 를 반환하면 계속 반복문을 수행하면서 \n",
    "            # 삽입된 데이터의 노드 위치와 부모 노드의 위치를 바꿔준다.\n",
    "            parent_idx = inserted_idx // 2\n",
    "            # 파이썬에서 제공되는 데이터 스왑기능\n",
    "            # 자바의 경우 temp 변수등을 활용하여 바꿔주어야 한다.\n",
    "            self.heap_array[inserted_idx], self.heap_array[parent_idx] = self.heap_array[parent_idx], self.heap_array[inserted_idx]\n",
    "            inserted_idx = parent_idx # 삽입된 데이터의 변경된 인덱스 위치를 적용해준다.\n",
    "            \n",
    "        \n",
    "        return True"
   ]
  },
  {
   "cell_type": "code",
   "execution_count": 7,
   "id": "ba345c6d",
   "metadata": {},
   "outputs": [
    {
     "data": {
      "text/plain": [
       "[None, 20, 10, 15, 5, 4, 8]"
      ]
     },
     "execution_count": 7,
     "metadata": {},
     "output_type": "execute_result"
    }
   ],
   "source": [
    "heap = Heap(15)\n",
    "heap.insert(10)\n",
    "heap.insert(8)\n",
    "heap.insert(5)\n",
    "heap.insert(4)\n",
    "heap.insert(20) # 가장 마지막에 삽입 되었음에도 루트 노드로 적재되어 있는것을 확인할 수 있다.\n",
    "heap.heap_array"
   ]
  },
  {
   "cell_type": "markdown",
   "id": "b983d6e1",
   "metadata": {},
   "source": [
    "#### 힙에 데이터 삭제 구현(최대 힙의 경우)\n",
    "- 보통 삭제는 최상단 노드(Root Node) 를 삭제하는 것이 일반적이다.\n",
    "    - 힙의 용도는 최대값 또는 최소값을 Root Node 에 놓고, 최대값과 최소값을 바로 꺼내서 쓸 수 있도록 하는 것이다.\n",
    "    - 상단의 데이터 삭제 시, 일반적으로 가장 마지막에 추가한 노드 를 Root Node 로 이동시킨다.\n",
    "    - Root Node 의 값이 Child Node 보다 작을 경우, Root Node 의 Child Node 중 가장 큰 값을 가진 노드와 Root Node 위치를 바꿔주는 작업을 반복한다."
   ]
  },
  {
   "cell_type": "code",
   "execution_count": 9,
   "id": "db8d4e6c",
   "metadata": {},
   "outputs": [],
   "source": [
    "class Heap:\n",
    "    def __init__(self, data):\n",
    "        self.heap_array = list() # 파이썬에서 배열은 리스트 형태로 다룰 수 있다.\n",
    "        self.heap_array.append(None) # 힙의 루트 노드의 인덱스를 1로 저장하기 위해 0번 인덱스에 None 값을 준다.\n",
    "        self.heap_array.append(data)\n",
    "    \n",
    "    # 삽입된 데이터가 부모 노드보다 큰지 작은지에 대한 검증 결과를 반환해주는 메소드를 작성해준다.\n",
    "    def move_up(self, inserted_idx):\n",
    "        # 삽입된 데이터가 루트 노드까지 올라갔을 경우 더 이상 데이터 비교 및 위치 스왑 작업을 해줄 필요가 없다.\n",
    "        if inserted_idx <= 1: \n",
    "            return False\n",
    "        \n",
    "        parent_idx = inserted_idx // 2\n",
    "        if self.heap_array[inserted_idx] > self.heap_array[parent_idx]:\n",
    "            return True\n",
    "        else:\n",
    "            return False\n",
    "    \n",
    "    def insert(self, data):\n",
    "        # 방어 코드 - 힙 배열에 아무 데이터도 들어가 있지 않은 상태에서 메소드가 수행되는 경우를 대비하여 \n",
    "        # 배열에 데이터 값을 적재해주는 코드를 작성해준다.\n",
    "        if len(self.heap_array) == 0:\n",
    "            self.heap_array.append(None)\n",
    "            self.heap_array.append(data)\n",
    "            return True\n",
    "        \n",
    "        self.heap_array.append(data) # append 라는 배열 자체가 리스트의 가장 마지막 부분에 데이터를 추가해주는 것이기 때문에 \n",
    "        # 힙 트리의 마지막 요소에 데이터를 추가해 주기 위해 굳이 로직을 작성할 필요가 없다.\n",
    "        # 연결 리스트로 트리를 만들고 있는 것이 아니라 배열로 만들고 있기 때문에 얻을 수 있는 장점이다.\n",
    "        # 자바의 경우 ArrayList 를 이용해 볼 수 있을 것이다.\n",
    "        \n",
    "        # 삽입한 데이터가 부모 노드보다 값이 클 경우의 로직을 작성해준다.\n",
    "        inserted_idx = len(self.heap_array) - 1 # 마지막으로 삽입된 데이터의 인덱스를 알아낸다.\n",
    "        while self.move_up(inserted_idx):\n",
    "            # 메소드의 실행 결과 true 를 반환하면 계속 반복문을 수행하면서 \n",
    "            # 삽입된 데이터의 노드 위치와 부모 노드의 위치를 바꿔준다.\n",
    "            parent_idx = inserted_idx // 2\n",
    "            # 파이썬에서 제공되는 데이터 스왑기능\n",
    "            # 자바의 경우 temp 변수등을 활용하여 바꿔주어야 한다.\n",
    "            self.heap_array[inserted_idx], self.heap_array[parent_idx] = self.heap_array[parent_idx], self.heap_array[inserted_idx]\n",
    "            inserted_idx = parent_idx # 삽입된 데이터의 변경된 인덱스 위치를 적용해준다.\n",
    "            \n",
    "        \n",
    "        return True\n",
    "    \n",
    "    def move_down(self, poped_idx):\n",
    "        left_child_popped_idx = poped_idx * 2\n",
    "        right_child_popped_idx = poped_idx * 2 + 1\n",
    "        \n",
    "        # case 1 : 왼쪽 자식 노드도 없을때(Child Node 를 가지고 있지 않을때(Leaf Node))\n",
    "        # 왼쪽 자식 노드 인덱스에 대한 계산결과가 배열의 길이를 넘어가는 경우\n",
    "        if left_child_popped_idx >= len(self.heap_array):\n",
    "            return False\n",
    "        \n",
    "        # case 2 : 오른족 자식 노드만 없을때(왼쪽 자식 노드가 존재할때)\n",
    "        # 오른쪽 자식 노드 인덱스에 대한 계산결과가 배열의 길이를 넘어가는 경우\n",
    "        elif right_child_popped_idx >= len(self.heap_array):\n",
    "            # 왼쪽 자식 노드의 데이터 값이 Root Node 로 이동된 노드의 데이터 값 보다 큰 경우\n",
    "            if self.heap_array[poped_idx] < self.heap_array[left_child_popped_idx]:\n",
    "                return True\n",
    "            else:\n",
    "                return False\n",
    "        # case 3 : 두 개의 자식 노드를 모두 가지고 있을 때\n",
    "        else:\n",
    "            # 두 개의 자식 노드 중에서 왼쪽 자식 노드의 값이 오른쪽 자식 노드의 값 보다 큰 경우\n",
    "            if self.heap_array[left_child_popped_idx] > self.heap_array[right_child_popped_idx]:\n",
    "                # 왼쪽 자식 노드의 값이 루트 노드로 옮겨온 노드의 값 보다 큰 경우\n",
    "                if self.heap_array[poped_idx] < self.heap_array[left_child_popped_idx]:\n",
    "                    return True\n",
    "                else:\n",
    "                    return False\n",
    "            # 오른쪽 자식 노드의 값이 왼쪽 자식 노드의 값 보다 큰 경우\n",
    "            else:\n",
    "                # 오른쪽 자식 노드의 값이 루트 노드로 옮겨진 노드의 값 보다 큰 경우\n",
    "                if self.heap_array[poped_idx] < self.heap_array[right_child_popped_idx]:\n",
    "                    return True\n",
    "                else:\n",
    "                    return False\n",
    "    # 힙 트리 데이터 삭제 - 최대값(Root Node)\n",
    "    def pop(self):\n",
    "        if len(self.heap_array) <= 1:\n",
    "            return None\n",
    "        \n",
    "        returned_data = self.heap_array[1]\n",
    "        self.heap_array[1] = self.heap_array[-1] # 힙에 마지막으로 들어온 데이터를 Root Node 로 올려준다.\n",
    "        del self.heap_array[-1]\n",
    "        poped_idx = 1\n",
    "        \n",
    "        # 루트 노드로 옮겨진 노드와 자식 노드들간의 비교 결과, 노드의 위치를 바꿔야 할 때마다 반복문의 코드를 수행한다. \n",
    "        while self.move_down(poped_idx):\n",
    "            left_child_popped_idx = poped_idx * 2\n",
    "            right_child_popped_idx = poped_idx * 2 + 1\n",
    "            \n",
    "            # Leaf Node 인 경우 move_down 메소드의 반환값이 false 가 되어 반복문이 수행되지 않으므로 고려하지 않는다.\n",
    "            \n",
    "            # 어떤 로직에 의해 move_down 메소드가 true 를 반환했는지 모르기 때문에 반복문에서 각 로직 별로 코드를 다시 작성해준다.\n",
    "            # 오른쪽 자식 노드만 없을 경우(왼쪽 자식 노드만 있을 경우)\n",
    "            if right_child_popped_idx >= len(self.heap_array):\n",
    "                # 왼쪽 노드의 값이 \n",
    "                if self.heap_array[poped_idx] < self.heap_array[left_child_popped_idx]:\n",
    "                    self.heap_array[poped_idx], self.heap_array[left_child_popped_idx] = self.heap_array[left_child_popped_idx], self.heap_array[poped_idx]\n",
    "                    poped_idx = left_child_popped_idx\n",
    "            # 왼쪽, 오른쪽 자식 노드가 모두 존재할 경우\n",
    "            else:\n",
    "                if self.heap_array[left_child_popped_idx] > self.heap_array[right_child_popped_idx]:\n",
    "                    if self.heap_array[poped_idx] < self.heap_array[left_child_popped_idx]:\n",
    "                        self.heap_array[poped_idx], self.heap_array[left_child_popped_idx] = self.heap_array[left_child_popped_idx], self.heap_array[poped_idx]\n",
    "                        poped_idx = left_child_popped_idx\n",
    "                else:\n",
    "                    if self.heap_array[poped_idx] < self.heap_array[right_child_popped_idx]:\n",
    "                        self.heap_array[poped_idx], self.heap_array[right_child_popped_idx] = self.heap_array[right_child_popped_idx], self.heap_array[poped_idx]\n",
    "                        poped_idx = right_child_popped_idx\n",
    "                        \n",
    "        return returned_data"
   ]
  },
  {
   "cell_type": "code",
   "execution_count": 11,
   "id": "d82b5a78",
   "metadata": {},
   "outputs": [
    {
     "data": {
      "text/plain": [
       "[None, 20, 10, 15, 5, 4, 8]"
      ]
     },
     "execution_count": 11,
     "metadata": {},
     "output_type": "execute_result"
    }
   ],
   "source": [
    "heap = Heap(15)\n",
    "heap.insert(10)\n",
    "heap.insert(8)\n",
    "heap.insert(5)\n",
    "heap.insert(4)\n",
    "heap.insert(20)\n",
    "heap.heap_array"
   ]
  },
  {
   "cell_type": "code",
   "execution_count": 12,
   "id": "6a0f36ea",
   "metadata": {},
   "outputs": [
    {
     "data": {
      "text/plain": [
       "20"
      ]
     },
     "execution_count": 12,
     "metadata": {},
     "output_type": "execute_result"
    }
   ],
   "source": [
    "heap.pop()"
   ]
  },
  {
   "cell_type": "code",
   "execution_count": 13,
   "id": "6ea08850",
   "metadata": {},
   "outputs": [
    {
     "data": {
      "text/plain": [
       "[None, 15, 10, 8, 5, 4]"
      ]
     },
     "execution_count": 13,
     "metadata": {},
     "output_type": "execute_result"
    }
   ],
   "source": [
    "heap.heap_array"
   ]
  },
  {
   "cell_type": "markdown",
   "id": "7d0b5b3d",
   "metadata": {},
   "source": [
    "### 힙의 시간복잡도\n",
    "- depth(트리의 높이) 를 h 라고 표기한다.\n",
    "- n 개의 노드를 가지는 heap 에 데이터 삽입 또는 삭제 시, 최악의 경우 Root Node 에서 Leaf Node 까지 비교해야 하므로 h = log2n 에 가까우므로, 시간 복잡도는 O(log n) 이다. (마지막에 삽입된 데이터가 최대 힙 기준에서 최소값에 해당할 경우)\n",
    "    - 참고 : 빅오 표기법에서 log n 에서의 log 의 밑은 10이 아니라 2이다.\n",
    "    - 한번 실행 시 마다 50% 의 실행할 수도 있는 명령을 제거한다는 의미이다. 즉, 50% 의 실행시간을 단축시킬 수 있다는 것을 의미한다."
   ]
  }
 ],
 "metadata": {
  "kernelspec": {
   "display_name": "Python 3",
   "language": "python",
   "name": "python3"
  },
  "language_info": {
   "codemirror_mode": {
    "name": "ipython",
    "version": 3
   },
   "file_extension": ".py",
   "mimetype": "text/x-python",
   "name": "python",
   "nbconvert_exporter": "python",
   "pygments_lexer": "ipython3",
   "version": "3.8.8"
  }
 },
 "nbformat": 4,
 "nbformat_minor": 5
}
